{
 "cells": [
  {
   "cell_type": "markdown",
   "metadata": {},
   "source": [
    "### 자료형\n",
    "+ int(integer) : 정수\n",
    "+ float(float) : 실수\n",
    "+ str(string) : 문자\n",
    "+ bool(bool, boolean) : 참 또는 거짓, true 또는 false, 1 또는 0\n",
    "---\n",
    "+ list\n",
    "+ tuple\n",
    "+ dict\n",
    "+ set"
   ]
  },
  {
   "cell_type": "code",
   "execution_count": 32,
   "metadata": {},
   "outputs": [
    {
     "name": "stdout",
     "output_type": "stream",
     "text": [
      "True\n",
      "False\n",
      "True\n",
      "True\n",
      "False\n"
     ]
    }
   ],
   "source": [
    "# bool의 쇼타임!\n",
    "# 주의!!\n",
    "# True O    true X\n",
    "# False O   false X\n",
    "\n",
    "print(3 > 1)\n",
    "print(3 == 1)\n",
    "print(3 == 3)\n",
    "print(30 != 5)\n",
    "print(20 != 20)"
   ]
  },
  {
   "cell_type": "code",
   "execution_count": 33,
   "metadata": {},
   "outputs": [
    {
     "name": "stdout",
     "output_type": "stream",
     "text": [
      "False\n",
      "False\n",
      "True\n",
      "True\n"
     ]
    }
   ],
   "source": [
    "# 문자열 비교\n",
    "string = \"python\"\n",
    "\n",
    "print(string == \"Python\")\n",
    "print(string == \"string\")\n",
    "print(string == \"python\")\n",
    "print(string != \"Python\")"
   ]
  },
  {
   "cell_type": "code",
   "execution_count": 34,
   "metadata": {},
   "outputs": [
    {
     "name": "stdout",
     "output_type": "stream",
     "text": [
      "True\n",
      "False\n"
     ]
    }
   ],
   "source": [
    "# 부등호\n",
    "\n",
    "print(5 >= 5)\n",
    "print(5 < 4)"
   ]
  },
  {
   "cell_type": "code",
   "execution_count": 35,
   "metadata": {},
   "outputs": [
    {
     "name": "stdout",
     "output_type": "stream",
     "text": [
      "True\n",
      "True\n",
      "False\n",
      "True\n",
      "4578190608\n",
      "4530923888\n",
      "4578191152\n",
      "4530923888\n"
     ]
    },
    {
     "name": "stderr",
     "output_type": "stream",
     "text": [
      "<>:3: SyntaxWarning: \"is\" with a literal. Did you mean \"==\"?\n",
      "<>:6: SyntaxWarning: \"is\" with a literal. Did you mean \"==\"?\n",
      "<>:3: SyntaxWarning: \"is\" with a literal. Did you mean \"==\"?\n",
      "<>:6: SyntaxWarning: \"is\" with a literal. Did you mean \"==\"?\n",
      "/var/folders/qy/zbhxzt9d7mzg13p0ybcyqblh0000gn/T/ipykernel_9370/2252805091.py:3: SyntaxWarning: \"is\" with a literal. Did you mean \"==\"?\n",
      "  print(3 is 3)\n",
      "/var/folders/qy/zbhxzt9d7mzg13p0ybcyqblh0000gn/T/ipykernel_9370/2252805091.py:6: SyntaxWarning: \"is\" with a literal. Did you mean \"==\"?\n",
      "  print(3.0 is 3)\n"
     ]
    }
   ],
   "source": [
    "# ==, is\n",
    "\n",
    "print(3 is 3)\n",
    "print(3 == 3)\n",
    "\n",
    "print(3.0 is 3)\n",
    "print(3.0 == 3)\n",
    "\n",
    "print(id(3.0))\n",
    "print(id(3))\n",
    "print(id(3.0))\n",
    "print(id(3))"
   ]
  },
  {
   "cell_type": "markdown",
   "metadata": {},
   "source": [
    "미션 : 값 비교에는 is를 쓰면  안되는데 그 이유를 찾아서 기술 블로그에 작성해보시오."
   ]
  },
  {
   "cell_type": "code",
   "execution_count": 36,
   "metadata": {},
   "outputs": [
    {
     "name": "stdout",
     "output_type": "stream",
     "text": [
      "True\n",
      "False\n",
      "False\n",
      "False\n",
      "\n",
      "\n",
      "True\n",
      "True\n",
      "True\n",
      "False\n",
      "\n",
      "\n",
      "False\n",
      "True\n"
     ]
    }
   ],
   "source": [
    "# 본격적인 논리연산자\n",
    "# True : 1  /   False : 0\n",
    "\n",
    "print(True and True)\n",
    "print(True and False)\n",
    "print(False and True)\n",
    "print(False and False)\n",
    "\n",
    "print(\"\\n\")\n",
    "\n",
    "print(True or True)\n",
    "print(True or False)\n",
    "print(False or True)\n",
    "print(False or False)\n",
    "\n",
    "print(\"\\n\")\n",
    "\n",
    "print(not True)\n",
    "print(not False)"
   ]
  },
  {
   "cell_type": "code",
   "execution_count": 37,
   "metadata": {},
   "outputs": [
    {
     "name": "stdout",
     "output_type": "stream",
     "text": [
      "True\n",
      "False\n",
      "False\n",
      "True\n"
     ]
    },
    {
     "name": "stderr",
     "output_type": "stream",
     "text": [
      "<>:4: SyntaxWarning: \"is not\" with a literal. Did you mean \"!=\"?\n",
      "<>:4: SyntaxWarning: \"is not\" with a literal. Did you mean \"!=\"?\n",
      "/var/folders/qy/zbhxzt9d7mzg13p0ybcyqblh0000gn/T/ipykernel_9370/1789446315.py:4: SyntaxWarning: \"is not\" with a literal. Did you mean \"!=\"?\n",
      "  print(not 7 is 7.0)\n"
     ]
    }
   ],
   "source": [
    "print(10 == 12 or 6 != 2)\n",
    "print(2 > 5 and 7 == 7)\n",
    "print(not 14 <= 15)\n",
    "print(not 7 is 7.0)"
   ]
  },
  {
   "cell_type": "code",
   "execution_count": 40,
   "metadata": {},
   "outputs": [
    {
     "name": "stdout",
     "output_type": "stream",
     "text": [
      "True\n",
      "False\n"
     ]
    }
   ],
   "source": [
    "# 문자열\n",
    "tired = \"힘들어요\"\n",
    "\n",
    "print(bool(tired))\n",
    "print(bool(\"\"))"
   ]
  },
  {
   "cell_type": "code",
   "execution_count": 41,
   "metadata": {},
   "outputs": [
    {
     "name": "stdout",
     "output_type": "stream",
     "text": [
      "False\n",
      "False\n",
      "False\n",
      "힘들어요 \t ?\n",
      "힘들어요 \t ?\n",
      "True\n",
      "False\n",
      "True\n"
     ]
    }
   ],
   "source": [
    "# 단락 평가\n",
    "\n",
    "print(False and True)\n",
    "print(False and tired)\n",
    "\n",
    "print(True and False)\n",
    "\n",
    "print(True and tired, \"\\t ?\")           # 뭐지?\n",
    "print(True and \"힘들어요\", \"\\t ?\")\n",
    "\n",
    "print(tired and True)\n",
    "print(\"\" == False)\n",
    "print(bool(\"\") == False)"
   ]
  }
 ],
 "metadata": {
  "kernelspec": {
   "display_name": "Python 3",
   "language": "python",
   "name": "python3"
  },
  "language_info": {
   "codemirror_mode": {
    "name": "ipython",
    "version": 3
   },
   "file_extension": ".py",
   "mimetype": "text/x-python",
   "name": "python",
   "nbconvert_exporter": "python",
   "pygments_lexer": "ipython3",
   "version": "3.9.6"
  }
 },
 "nbformat": 4,
 "nbformat_minor": 2
}
