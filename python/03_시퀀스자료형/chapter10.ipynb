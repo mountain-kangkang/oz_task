{
 "cells": [
  {
   "cell_type": "markdown",
   "metadata": {},
   "source": [
    "### list\n",
    "\n",
    "+ list란? 원소들이 연속적으로 저장되는 형태의 자료형을 말합니다.\n",
    "+ 시퀀스 자료형\n",
    "    + str(정복),    list(정복 예정), tuple, dict, set\n",
    "+ 대괄호로 묶어주고, 값들은 콤마(,)로 구분"
   ]
  },
  {
   "cell_type": "code",
   "execution_count": 1,
   "metadata": {},
   "outputs": [
    {
     "name": "stdout",
     "output_type": "stream",
     "text": [
      "[]\n",
      "[23, '이것이 리스트다', 3.23, True, False]\n"
     ]
    }
   ],
   "source": [
    "리스트 = []\n",
    "print(리스트)\n",
    "\n",
    "리스트 = [23, \"이것이 리스트다\", 3.23, True, False]\n",
    "print(리스트)"
   ]
  },
  {
   "cell_type": "code",
   "execution_count": 2,
   "metadata": {},
   "outputs": [
    {
     "name": "stdout",
     "output_type": "stream",
     "text": [
      "['이', '렇', '게', '만', '들', '보', '자']\n",
      "[]\n",
      "range(0, 10)\n",
      "[0, 1, 2, 3, 4, 5, 6, 7, 8, 9, 10, 11, 12, 13, 14, 15, 16, 17, 18, 19, 20, 21, 22, 23, 24, 25, 26, 27, 28, 29]\n"
     ]
    }
   ],
   "source": [
    "리스트 = [\"이\", \"렇\", \"게\", \"만\", \"들\", \"보\", \"자\"]\n",
    "print(리스트)\n",
    "\n",
    "리스트2 = list()\n",
    "print(리스트2)\n",
    "\n",
    "# range\n",
    "print(range(10))\n",
    "\n",
    "# list(range(시작, 끝))\n",
    "list_magic = list(range(0, 30))\n",
    "print(list_magic)"
   ]
  },
  {
   "cell_type": "code",
   "execution_count": 4,
   "metadata": {},
   "outputs": [
    {
     "name": "stdout",
     "output_type": "stream",
     "text": [
      "[0, 2, 4, 6, 8, 10, 12, 14, 16, 18]\n",
      "[20, 19, 18, 17, 16, 15, 14, 13, 12, 11, 10, 9, 8, 7, 6, 5, 4, 3, 2, 1]\n",
      "[]\n"
     ]
    }
   ],
   "source": [
    "# list(range(시작, 끝, 증가))\n",
    "list_magic2 = list(range(0, 20, 2))\n",
    "print(list_magic2)\n",
    "\n",
    "list_magic3 = list(range(20, 0, -1))\n",
    "print(list_magic3)\n",
    "\n",
    "list_magic4 = list(range(20, 0))\n",
    "print(list_magic4)"
   ]
  },
  {
   "cell_type": "code",
   "execution_count": 7,
   "metadata": {},
   "outputs": [
    {
     "name": "stdout",
     "output_type": "stream",
     "text": [
      "들 어 가\n",
      "7 8 9\n",
      "10000원, 5000원, 1000원\n"
     ]
    }
   ],
   "source": [
    "# 리스트를 이용해 변수에 값 넣기\n",
    "\n",
    "a, b, c = [\"들\", \"어\", \"가\"]\n",
    "print(a, b, c)\n",
    "\n",
    "d, e, f = 7, 8, 9\n",
    "print(d, e, f)\n",
    "\n",
    "wallet = [10000, 5000, 1000]\n",
    "만원, 오천원, 천원 = wallet\n",
    "print(f\"{만원}원, {오천원}원, {천원}원\")"
   ]
  },
  {
   "cell_type": "code",
   "execution_count": 9,
   "metadata": {},
   "outputs": [
    {
     "data": {
      "text/plain": [
       "['기억?', '나요?']"
      ]
     },
     "execution_count": 9,
     "metadata": {},
     "output_type": "execute_result"
    }
   ],
   "source": [
    "# 리스트 패킹, 리스트 언패킹\n",
    "input().split()"
   ]
  },
  {
   "cell_type": "code",
   "execution_count": 23,
   "metadata": {},
   "outputs": [
    {
     "name": "stdout",
     "output_type": "stream",
     "text": [
      "[5, 15]\n",
      "44\n",
      "[44, 41, 33, 15, 5, 3]\n",
      "lotto 리스트에 33은 1개 들어있음\n",
      "[3, 5, 15, 33, 41, 44, 2, 12, 15, 24, 33, 39]\n",
      "5\n",
      "[4, 8, 12, 16, 20]\n",
      "5\n",
      "12\n",
      "20\n"
     ]
    }
   ],
   "source": [
    "# 슬라이싱\n",
    "\n",
    "lotto = [3, 5, 15, 33, 41, 44]\n",
    "\n",
    "# 로토 변수에 있는 리스트의 인덱스 1번부터 2번까지의 값 출력\n",
    "print(lotto[1:3])\n",
    "\n",
    "# 로또 변수의 마지막 위치 출력\n",
    "num = len(lotto)\n",
    "# print(num)\n",
    "print(lotto[num - 1])\n",
    "# print(lotto[-1])          ta-da-!! 이렇게 쉬운 방법이 있었답니다~\n",
    "\n",
    "# 반대로 출력\n",
    "print(lotto[::-1])\n",
    "\n",
    "# 로또 리스트 안에 33이 있는지 확인\n",
    "print(f\"lotto 리스트에 33은 {lotto.count(33)}개 들어있음\")\n",
    "# print(33 in lotto)        이게 정답임. 있으면 True, 없으면 False 나옴\n",
    "\n",
    "# lotto 리스트를 lotto2 리스트와 합쳐보시오\n",
    "lotto2 = [2, 12, 15, 24, 33, 39]\n",
    "\n",
    "lotto3 = lotto + lotto2\n",
    "\n",
    "print(lotto3)\n",
    "\n",
    "# range를 이용해서 1부터 10사이에 짝수만 들어있는 짝수(변수명) 리스트 제작\n",
    "짝수 = list(range(2, 11, 2))\n",
    "\n",
    "# 짝수 리스트에 들어있는 값을 2배 늘려서 다시 짝수 변수에 담기\n",
    "print(len(짝수))\n",
    "for i in range(0, len(짝수)):\n",
    "    짝수[i] *= 2\n",
    "\n",
    "print(짝수)\n",
    "\n",
    "# 짝수 리스트에 들어있는 요소의 개수 구하기\n",
    "print(len(짝수))\n",
    "\n",
    "# 짝수 리스트에 3번째 인덱스 출력\n",
    "print(짝수[2])\n",
    "\n",
    "# len() 함수를 이용해 인덱스 마지막 값 출력\n",
    "temp = len(짝수)\n",
    "\n",
    "print(짝수[temp - 1])"
   ]
  },
  {
   "cell_type": "code",
   "execution_count": 31,
   "metadata": {},
   "outputs": [
    {
     "name": "stdout",
     "output_type": "stream",
     "text": [
      "['숙주', '분모자', '마라', '소세지', '소고기', '옥수수면', '고수']\n",
      "['탕후루', '숙주', '분모자', '마라', '소세지', '소고기', '옥수수면', '고수']\n",
      "['탕후루', '숙주', '분모자', '마라', '소세지', '소고기', '옥수수면']\n",
      "['숙주', '분모자', '마라', '소세지', '소고기', '옥수수면']\n",
      "['숙주', '분모자', '마라', '소세지', '양고기', '옥수수면']\n"
     ]
    }
   ],
   "source": [
    "# list 값 넣고, 바꾸고, 지우고\n",
    "\n",
    "mzfood = [\"숙주\", \"분모자\", \"마라\", \"소세지\", \"소고기\", \"옥수수면\"]\n",
    "\n",
    "# 값을 넣는 방법 2가지\n",
    "# append() : 마지막 요소에 값을 넣음\n",
    "# insert() : 원하는 요소에 값을 넣음\n",
    "mzfood.append(\"고수\")\n",
    "print(mzfood)\n",
    "\n",
    "mzfood.insert(0, \"탕후루\")\n",
    "print(mzfood)\n",
    "\n",
    "# 값 지우기\n",
    "del mzfood[-1]\n",
    "print(mzfood)\n",
    "\n",
    "del mzfood[0]\n",
    "print(mzfood)\n",
    "\n",
    "# 값 바꾸기\n",
    "mzfood[-2] = \"양고기\"\n",
    "print(mzfood)\n",
    "\n",
    "\n",
    "# 문자열은 시퀀스라도 안됨\n",
    "# 인사 = \"반가워\"\n",
    "# 인사[2] = \"웡\""
   ]
  },
  {
   "cell_type": "code",
   "execution_count": 32,
   "metadata": {},
   "outputs": [
    {
     "name": "stdout",
     "output_type": "stream",
     "text": [
      "['__add__', '__class__', '__class_getitem__', '__contains__', '__delattr__', '__delitem__', '__dir__', '__doc__', '__eq__', '__format__', '__ge__', '__getattribute__', '__getitem__', '__gt__', '__hash__', '__iadd__', '__imul__', '__init__', '__init_subclass__', '__iter__', '__le__', '__len__', '__lt__', '__mul__', '__ne__', '__new__', '__reduce__', '__reduce_ex__', '__repr__', '__reversed__', '__rmul__', '__setattr__', '__setitem__', '__sizeof__', '__str__', '__subclasshook__', 'append', 'clear', 'copy', 'count', 'extend', 'index', 'insert', 'pop', 'remove', 'reverse', 'sort']\n"
     ]
    }
   ],
   "source": [
    "print(dir(list))\n",
    "# 'append', 'clear', 'copy', 'count', 'extend', 'index', 'insert', 'pop', 'remove', 'reverse', 'sort'"
   ]
  },
  {
   "cell_type": "code",
   "execution_count": 34,
   "metadata": {},
   "outputs": [
    {
     "name": "stdout",
     "output_type": "stream",
     "text": [
      "['옥수수면', '양고기', '소세지', '마라', '분모자', '숙주']\n",
      "['숙주', '분모자', '마라', '소세지', '양고기', '옥수수면']\n",
      "['마라', '분모자', '소세지', '숙주', '양고기', '옥수수면']\n"
     ]
    }
   ],
   "source": [
    "print(mzfood)\n",
    "\n",
    "mzfood.reverse()\n",
    "print(mzfood)\n",
    "print(mzfood.reverse())\n",
    "\n",
    "mzfood.sort()\n",
    "print(mzfood)\n",
    "print(mzfood.sort())\n",
    "\n",
    "# 왜 reverse(), sort()는 print()안에서 출력이 되지 않을까?(찾아보시오)"
   ]
  },
  {
   "cell_type": "code",
   "execution_count": 37,
   "metadata": {},
   "outputs": [
    {
     "name": "stdout",
     "output_type": "stream",
     "text": [
      "[[2, 0], [3, 1]]\n",
      "[2, 0]\n",
      "[3, 1]\n",
      "3\n",
      "[[2, 0], [3, 1], [4, 5]]\n"
     ]
    }
   ],
   "source": [
    "# 2차원 리스트 공부 必\n",
    "onion = [[2, 0], [3, 1]]\n",
    "print(onion)\n",
    "print(onion[0])\n",
    "print(onion[1])\n",
    "print(onion[1][0])\n",
    "\n",
    "onion.append([4, 5])\n",
    "print(onion)"
   ]
  }
 ],
 "metadata": {
  "kernelspec": {
   "display_name": "Python 3",
   "language": "python",
   "name": "python3"
  },
  "language_info": {
   "codemirror_mode": {
    "name": "ipython",
    "version": 3
   },
   "file_extension": ".py",
   "mimetype": "text/x-python",
   "name": "python",
   "nbconvert_exporter": "python",
   "pygments_lexer": "ipython3",
   "version": "3.9.6"
  }
 },
 "nbformat": 4,
 "nbformat_minor": 2
}
