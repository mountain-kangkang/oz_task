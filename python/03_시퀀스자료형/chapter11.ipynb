{
 "cells": [
  {
   "cell_type": "markdown",
   "metadata": {},
   "source": [
    "## 시퀀스 자료형\n",
    "+ 문자열\n",
    "    + 시퀀스형에서 사용할 수 있는 메소드(count(), index(), split() 등...)\n",
    "    + 슬라이싱 ( [ : ], [ : : ])\n",
    "    + 요소들로 이루어져 가능했던 기능들 (요소 합치기, 요소 찾기 등등)\n",
    "+ list\n",
    "    + 시퀀스형에서 사용할 수 있는 메소드(count(), index(), split() 등...)\n",
    "    + 슬라이싱 ( [ : ], [ : : ])\n",
    "    + 요소들로 이루어져 가능했던 기능들 (요소 합치기, 요소 찾기 등등)\n",
    "    + list 지원하는 다양한 메소드(append(), insert(), del, sort(), reverse() emd)\n",
    "+ tuple\n",
    "    + list처럼 요소를 일렬로 저장하지만 안에 저장된 요소를 변경, 추가, 삭제할 수 없다.\n",
    "    + 값을 추가, 삭제, 변경할 수 없기 때문에 사용하지 못하는 메소드가 많다.\n",
    "    + tuple의 생성 방법은 tuple = 값, 값 또는 tuple = (값, 값\n",
    "    + 그리고 엄청난 비밀이 숨겨져 있다?\n",
    "    + 튜플은 소괄호입니다."
   ]
  },
  {
   "cell_type": "code",
   "execution_count": 5,
   "metadata": {},
   "outputs": [
    {
     "name": "stdout",
     "output_type": "stream",
     "text": [
      "<class 'tuple'>\n",
      "(1, '이', 3.0)\n",
      "<class 'tuple'>\n",
      "(1, '이', 3.0)\n",
      "<class 'tuple'>\n",
      "(1,)\n",
      "<class 'int'>\n",
      "1\n"
     ]
    }
   ],
   "source": [
    "# 리스트는 대괄호 [], 튜플은 소괄호 ()\n",
    "\n",
    "튜플 = (1, \"이\", 3.0)\n",
    "print(type(튜플))\n",
    "print(튜플)\n",
    "\n",
    "# 리스트 = [1, \"이\", 3.0]\n",
    "# print(type(리스트))\n",
    "# print(리스트)\n",
    "\n",
    "튜플2 = 1, \"이\", 3.0\n",
    "print(type(튜플2))\n",
    "print(튜플2)\n",
    "\n",
    "튜플_솔로 = (1, )\n",
    "print(type(튜플_솔로))\n",
    "print(튜플_솔로)\n",
    "\n",
    "튜플_아님 = (1 )\n",
    "print(type(튜플_아님))\n",
    "print(튜플_아님)\n"
   ]
  },
  {
   "cell_type": "code",
   "execution_count": 7,
   "metadata": {},
   "outputs": [
    {
     "name": "stdout",
     "output_type": "stream",
     "text": [
      "(1, '이', 3.0)\n",
      "['__add__', '__class__', '__class_getitem__', '__contains__', '__delattr__', '__dir__', '__doc__', '__eq__', '__format__', '__ge__', '__getattribute__', '__getitem__', '__getnewargs__', '__gt__', '__hash__', '__init__', '__init_subclass__', '__iter__', '__le__', '__len__', '__lt__', '__mul__', '__ne__', '__new__', '__reduce__', '__reduce_ex__', '__repr__', '__rmul__', '__setattr__', '__sizeof__', '__str__', '__subclasshook__', 'count', 'index']\n",
      "['__add__', '__class__', '__class_getitem__', '__contains__', '__delattr__', '__delitem__', '__dir__', '__doc__', '__eq__', '__format__', '__ge__', '__getattribute__', '__getitem__', '__gt__', '__hash__', '__iadd__', '__imul__', '__init__', '__init_subclass__', '__iter__', '__le__', '__len__', '__lt__', '__mul__', '__ne__', '__new__', '__reduce__', '__reduce_ex__', '__repr__', '__reversed__', '__rmul__', '__setattr__', '__setitem__', '__sizeof__', '__str__', '__subclasshook__', 'append', 'clear', 'copy', 'count', 'extend', 'index', 'insert', 'pop', 'remove', 'reverse', 'sort']\n",
      "\n",
      "\n",
      "\n",
      "<class 'list'>\n",
      "[1, '이', 3.0]\n"
     ]
    }
   ],
   "source": [
    "# 튜플은 값 추가, 삭제, 변경 불가\n",
    "print(튜플)\n",
    "print(dir(튜플))\n",
    "\n",
    "print(dir(list))\n",
    "\n",
    "print(\"\\n\\n\")\n",
    "\n",
    "튜플_리스트화 = list(튜플)\n",
    "print(type(튜플_리스트화))\n",
    "print(튜플_리스트화)"
   ]
  },
  {
   "cell_type": "code",
   "execution_count": 10,
   "metadata": {},
   "outputs": [
    {
     "data": {
      "text/plain": [
       "(1, '이', 3.0)"
      ]
     },
     "execution_count": 10,
     "metadata": {},
     "output_type": "execute_result"
    }
   ],
   "source": [
    "# 값 변경 불가 확인\n",
    "\n",
    "# 튜플.append(\"두리안\")\n",
    "# del 튜플[2]\n",
    "# 튜플[1] = \"?\"\n",
    "튜플"
   ]
  },
  {
   "cell_type": "code",
   "execution_count": 11,
   "metadata": {},
   "outputs": [
    {
     "name": "stdout",
     "output_type": "stream",
     "text": [
      "['중', '꺽', '마']\n",
      "('중', '꺽', '마')\n",
      "중꺽마\n"
     ]
    }
   ],
   "source": [
    "# 번외\n",
    "\n",
    "수강생 = \"중꺽마\"\n",
    "수강생_list = list(수강생)\n",
    "수강생_tuple = tuple(수강생)\n",
    "\n",
    "print(수강생_list)\n",
    "print(수강생_tuple)\n",
    "\n",
    "# join\n",
    "취뽀_수강생 = \"\".join(수강생_list)\n",
    "print(취뽀_수강생)\n"
   ]
  },
  {
   "cell_type": "code",
   "execution_count": 15,
   "metadata": {},
   "outputs": [
    {
     "name": "stdout",
     "output_type": "stream",
     "text": [
      "(1, '이', 3.0)\n",
      "3\n",
      "(1, '이', 3.0, 1, '이', 3.0, 1, '이', 3.0)\n",
      "(1, '이', 3.0, 1, '이', 3.0)\n",
      "3.0\n",
      "2\n",
      "1\n",
      "('이', 3.0)\n"
     ]
    }
   ],
   "source": [
    "# 리스트 & 튜플 공통점\n",
    "print(튜플)\n",
    "print(len(튜플))        # 길이 구하기\n",
    "print(튜플 * 3)         # 요소 복사\n",
    "print(튜플 + 튜플)       # 요소 더하기\n",
    "print(튜플[2])          # 요소 인덱싱\n",
    "print(튜플.index(3.0))  # 요소 인덱싱\n",
    "print(튜플.count(1))    # 요소 카운트\n",
    "print(튜플[1:3])        # 슬라이싱\n",
    "\n"
   ]
  },
  {
   "cell_type": "markdown",
   "metadata": {},
   "source": [
    "## tuple 왜 씀?\n",
    "\n",
    "1. 3GO가 불가하기 때문임(넣고, 삭제하고, 바꾸고)\n",
    "> 여러명이 코딩을 하는 경우 변경되면 안되는 변수를 경우 또는 값이 변경되면 안되는 중요한 데이터를 넣어서 보안적으로 관리하기 좋다. ((ex) 은행계좌, 비밀번호 등)\n",
    "2. list는 tuple보다 무겁다\n",
    "> 단지 기능이 많아서 무거운걸까?\n",
    "> 파이썬은 동적배열을 지원함\n",
    "> - list = [1, 2, 3, 4] 생성해서 4개의 값을 입력함.\n",
    "> - 문제는 그 다음 값을 추가할 때 이미 공간이 다 찼기 때문에 추가 할당을 진행함.\n",
    "> - 추가 할당 시 메모리 크기는 4, 8, 16, 25, ... 더블링을 함.\n",
    "3. 리스트는 가변, 튜플은 불변이다\n",
    "> - 값이 고정되어야 하거나 크기가 작을 경우 튜플을 권장함 "
   ]
  },
  {
   "cell_type": "markdown",
   "metadata": {},
   "source": [
    "- 가변객체와 불변객체(알아보자)\n",
    "- 파이썬 리스트의 동적배열(알아보자)\n",
    "- 자료구조 책 구매 추천(파이썬 클린코드)"
   ]
  }
 ],
 "metadata": {
  "kernelspec": {
   "display_name": "Python 3",
   "language": "python",
   "name": "python3"
  },
  "language_info": {
   "codemirror_mode": {
    "name": "ipython",
    "version": 3
   },
   "file_extension": ".py",
   "mimetype": "text/x-python",
   "name": "python",
   "nbconvert_exporter": "python",
   "pygments_lexer": "ipython3",
   "version": "3.9.6"
  }
 },
 "nbformat": 4,
 "nbformat_minor": 2
}
