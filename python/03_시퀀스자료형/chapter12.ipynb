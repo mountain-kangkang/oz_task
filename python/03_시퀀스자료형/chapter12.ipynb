{
 "cells": [
  {
   "cell_type": "markdown",
   "metadata": {},
   "source": [
    "## 시퀀스 자료형\n",
    "+ 문자열\n",
    "    + 시퀀스형에서 사용할 수 있는 메소드(count(), index(), split() 등...)\n",
    "    + 슬라이싱 ( [ : ], [ : : ])\n",
    "    + 요소들로 이루어져 가능했던 기능들 (요소 합치기, 요소 찾기 등등)\n",
    "+ list\n",
    "    + 시퀀스형에서 사용할 수 있는 메소드(count(), index(), split() 등...)\n",
    "    + 슬라이싱 ( [ : ], [ : : ])\n",
    "    + 요소들로 이루어져 가능했던 기능들 (요소 합치기, 요소 찾기 등등)\n",
    "    + list 지원하는 다양한 메소드(append(), insert(), del, sort(), reverse() emd)\n",
    "+ tuple\n",
    "    + list처럼 요소를 일렬로 저장하지만 안에 저장된 요소를 변경, 추가, 삭제할 수 없다.\n",
    "    + 값을 추가, 삭제, 변경할 수 없기 때문에 사용하지 못하는 메소드가 많다.\n",
    "    + tuple의 생성 방법은 tuple = 값, 값 또는 tuple = (값, 값\n",
    "    + 그리고 엄청난 비밀이 숨겨져 있다?\n",
    "    + 튜플은 소괄호입니다.\n",
    "+ dict(딕셔너리)\n",
    "    + list, tuple, str, range(범위안에 연속된 데이터를 만드는 시퀀스)(데이터의 연관성 없음)\n",
    "    + dict는 여러개의 값이 일렬로 정렬되면서도 값끼리의 연관성이 존재\n",
    "    (ex : 게임 캐릭터 힘:30, 지능:20, 체력:40, 민첩:90)\n",
    "    + dict 생성방법은 중괄호{}"
   ]
  },
  {
   "cell_type": "code",
   "execution_count": 2,
   "metadata": {},
   "outputs": [
    {
     "name": "stdout",
     "output_type": "stream",
     "text": [
      "{'힘': 30, '지능': 20, '체력': 40, '민첩': 90}\n",
      "30\n"
     ]
    }
   ],
   "source": [
    "# list [], tuple (), dict {}\n",
    "thief = {\"힘\" : 30, \"지능\" : 20, \"체력\" : 40, \"민첩\" : 90}\n",
    "print(thief)\n",
    "\n",
    "# {키 : 값}\n",
    "# {key1:value1, key2:value2}\n",
    "\n",
    "# thief[1]              # 지금까지의 인덱싱은 안됨\n",
    "print(thief[\"힘\"])"
   ]
  },
  {
   "cell_type": "code",
   "execution_count": 4,
   "metadata": {},
   "outputs": [
    {
     "name": "stdout",
     "output_type": "stream",
     "text": [
      "{}\n",
      "{}\n",
      "{'힘': 30, '지능': 20, '체력': 40, '민첩': 90}\n",
      "{'힘': 30, '지능': 20, '체력': 40, '민첩': 90}\n"
     ]
    }
   ],
   "source": [
    "# 빈 딕셔너리 만들기\n",
    "딕셔너리 = {}\n",
    "print(딕셔너리)\n",
    "\n",
    "딕셔너리2 = dict()\n",
    "print(딕셔너리2)\n",
    "\n",
    "# 값을 넣어 만드는 방법\n",
    "# dict()로 생성시 값 넣는 기호 \"\", : 아님 주의\n",
    "딕셔너리3 = dict(힘=30, 지능=20, 체력=40, 민첩=90)\n",
    "print(딕셔너리3)\n",
    "\n",
    "# zip() : 병렬처리를 도와줍니다.\n",
    "딕셔너리4 = dict(zip([\"힘\", \"지능\", \"체력\", \"민첩\"], [30, 20, 40, 90]))\n",
    "print(딕셔너리4)"
   ]
  },
  {
   "cell_type": "code",
   "execution_count": 6,
   "metadata": {},
   "outputs": [
    {
     "name": "stdout",
     "output_type": "stream",
     "text": [
      "{'힘': 40, '지능': 20, '체력': 40, '민첩': 90, '지구력': 90}\n",
      "True\n"
     ]
    }
   ],
   "source": [
    "# 값의 중복은 허락됨. 그러나 키의 중복은 허락되지 아니함\n",
    "man = {\"힘\" : 30, \"지능\" : 20, \"체력\" : 40, \"민첩\" : 90, \"힘\" : 40, \"지구력\" : 90}\n",
    "print(man)\n",
    "\n",
    "# 키가 중복될 경우 뒤에 오는 키의 값이 최신 정보라 판단하고 저장됨\n",
    "\n",
    "print(\"체력\" in man)"
   ]
  },
  {
   "cell_type": "code",
   "execution_count": 9,
   "metadata": {},
   "outputs": [
    {
     "name": "stdout",
     "output_type": "stream",
     "text": [
      "dict_keys(['힘', '지능', '체력', '민첩', '지구력'])\n",
      "dict_values([40, 20, 40, 90, 90])\n",
      "dict_items([('힘', 40), ('지능', 20), ('체력', 40), ('민첩', 90), ('지구력', 90)])\n",
      "<class 'dict_items'>\n",
      "40\n"
     ]
    }
   ],
   "source": [
    "# 딕셔너리 메소드\n",
    "print(man.keys())\n",
    "print(man.values())\n",
    "\n",
    "print(man.items())\n",
    "print(type(man.items()))\n",
    "\n",
    "man_list = list(man.items())\n",
    "print(man_list[0][1])"
   ]
  },
  {
   "cell_type": "code",
   "execution_count": 10,
   "metadata": {},
   "outputs": [
    {
     "name": "stdout",
     "output_type": "stream",
     "text": [
      "{'힘': 40, '지능': 20, '체력': 40, '민첩': 90, '지구력': 90}\n",
      "{'힘': 40, '지능': 20, '체력': 40, '민첩': 90}\n",
      "{'힘': 40, '지능': 100, '체력': 40, '민첩': 90}\n",
      "{'힘': 40, '지능': 100, '체력': 40, '민첩': 90, '손재주': 50, '매력': 10}\n"
     ]
    }
   ],
   "source": [
    "# 딕셔너리 값 추가, 삭제, 변경\n",
    "print(man)\n",
    "\n",
    "# 딕셔너리 값 삭제\n",
    "del man[\"지구력\"]\n",
    "print(man)\n",
    "\n",
    "# 딕셔너리 값 변경\n",
    "man[\"지능\"] = 100\n",
    "print(man)\n",
    "\n",
    "# 딕셔너리 값 추가\n",
    "man.update({\"손재주\" : 50, \"매력\" : 10})\n",
    "print(man)"
   ]
  },
  {
   "cell_type": "code",
   "execution_count": 12,
   "metadata": {},
   "outputs": [
    {
     "name": "stdout",
     "output_type": "stream",
     "text": [
      "{'모자': {'캡': 'Nike', '비니': '셀린느'}, '상의': {'후드': '슈프림', '맨투맨': '아디다스'}}\n",
      "{'캡': 'Nike', '비니': '셀린느'}\n",
      "Nike\n"
     ]
    }
   ],
   "source": [
    "코디 = {\n",
    "    \"모자\" : {\n",
    "        \"캡\" : \"Nike\",\n",
    "        \"비니\" : \"셀린느\"\n",
    "    },\n",
    "    \"상의\" : {\n",
    "        \"후드\" : \"슈프림\",\n",
    "        \"맨투맨\" : \"아디다스\"\n",
    "    }\n",
    "}\n",
    "\n",
    "print(코디)\n",
    "print(코디[\"모자\"])\n",
    "print(코디[\"모자\"][\"캡\"])"
   ]
  },
  {
   "cell_type": "markdown",
   "metadata": {},
   "source": [
    "+ 해시, 해시맵, 해시테이블 공부해보이소~"
   ]
  },
  {
   "cell_type": "code",
   "execution_count": 13,
   "metadata": {},
   "outputs": [
    {
     "name": "stdout",
     "output_type": "stream",
     "text": [
      "주문이 완료되었습니다. 팥 1개, 슈 2개, 잡 3개, 총 6개 결제 금액은 16000원 입니다.\n"
     ]
    }
   ],
   "source": [
    "# dict 이력서를 작성했어요. 붕어빵인터네셔널 채용공고 열정만 있으면 오세요\n",
    "# 바로 오라고 하는게 이상해요\n",
    "# 아무도 없이 코드만 있어요... 레거시\n",
    "# 리팩토링 해달라고 합니다.\n",
    "\n",
    "\n",
    "# 변수 선언\n",
    "menu = {\n",
    "    \"팥붕\" : 2000,\n",
    "    \"슈붕\" : 2500,\n",
    "    \"잡붕\" : 3000\n",
    "}\n",
    "order = list(map(int, input(\"어떤 붕어빵으로 몇 개 드릴까요? 팥, 슈크림, 잡채 순으로 (,)로 구분하여 입력해주세요.\").split(\",\")))\n",
    "\n",
    "# 붕어빵 계산 금액\n",
    "total__pay = (menu[\"팥붕\"] * order[0]) + (menu[\"슈붕\"] * order[1]) + (menu[\"잡붕\"] * order[2])\n",
    "\n",
    "# 총 구매 개수\n",
    "total = order[0] + order[1] + order[2]\n",
    "\n",
    "# 출력\n",
    "print(f'주문이 완료되었습니다. 팥 {order[0]}개, 슈 {order[1]}개, 잡 {order[2]}개, 총 {total}개 결제 금액은 {total__pay}원 입니다.')"
   ]
  }
 ],
 "metadata": {
  "kernelspec": {
   "display_name": "Python 3",
   "language": "python",
   "name": "python3"
  },
  "language_info": {
   "codemirror_mode": {
    "name": "ipython",
    "version": 3
   },
   "file_extension": ".py",
   "mimetype": "text/x-python",
   "name": "python",
   "nbconvert_exporter": "python",
   "pygments_lexer": "ipython3",
   "version": "3.9.6"
  }
 },
 "nbformat": 4,
 "nbformat_minor": 2
}
