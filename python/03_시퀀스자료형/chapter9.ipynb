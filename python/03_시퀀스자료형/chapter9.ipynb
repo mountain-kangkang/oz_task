{
 "cells": [
  {
   "cell_type": "markdown",
   "metadata": {},
   "source": [
    "## 입력과 출력  \n",
    "\n",
    "* 입력 : input()\n",
    "* 출력 : print()\n",
    "\n",
    "\n",
    "##### 함수와 메소드\n",
    "> 함수 : 어디에 속해있지 않고 단독 모듈이라 함수를 그냥 호출하여 사용이 가능합니다.  \n",
    "ex) print(), input()  \n",
    "  \n",
    "https://docs.python.org/ko/3/library/functions.html  \n",
    "(파이썬 표준 라이브러리)  \n",
    "  \n",
    "  > 메소드 : 함수의 클래스 안에 속해 있고 클래스의 멤버 변수들을 이용해서 구현된 것  \n",
    "  예) \"까먹으신건가요?\".count(\"까\") / \"까먹으신건가요?\".index(\"까\")"
   ]
  },
  {
   "cell_type": "code",
   "execution_count": 1,
   "metadata": {},
   "outputs": [
    {
     "name": "stdout",
     "output_type": "stream",
     "text": [
      "1\n",
      "0\n"
     ]
    }
   ],
   "source": [
    "print(\"까먹으신건가요?\".count(\"까\"))\n",
    "print(\"까먹으신건가요?\".index(\"까\"))"
   ]
  },
  {
   "cell_type": "code",
   "execution_count": 3,
   "metadata": {},
   "outputs": [
    {
     "name": "stdout",
     "output_type": "stream",
     "text": [
      "5 5\n"
     ]
    }
   ],
   "source": [
    "숫자, 문자 = 5, \"5\"\n",
    "print(숫자, 문자)"
   ]
  },
  {
   "cell_type": "code",
   "execution_count": 6,
   "metadata": {},
   "outputs": [
    {
     "name": "stdout",
     "output_type": "stream",
     "text": [
      "안녕.. (홍조를 띄우며..)\n",
      "<class 'str'>\n"
     ]
    }
   ],
   "source": [
    "인사 = input(\"(도내 최고 미녀)찡긋..!  \")\n",
    "print(인사 + \" (홍조를 띄우며..)\")\n",
    "print(type(인사))"
   ]
  },
  {
   "cell_type": "code",
   "execution_count": 7,
   "metadata": {},
   "outputs": [
    {
     "name": "stdout",
     "output_type": "stream",
     "text": [
      "5 <class 'int'>\n",
      "5.0 <class 'float'>\n"
     ]
    }
   ],
   "source": [
    "# int(), float(), str(), bool()\n",
    "\n",
    "정수 = int(input())\n",
    "print(정수, type(정수))\n",
    "\n",
    "실수 = float(정수)\n",
    "print(실수, type(실수))\n"
   ]
  },
  {
   "cell_type": "markdown",
   "metadata": {},
   "source": [
    "그 외 입력값의 형변환이 가능한 종류  \n",
    "+ tuple()\n",
    "+ list()\n",
    "+ dict()\n",
    "+ set()\n"
   ]
  },
  {
   "cell_type": "code",
   "execution_count": 9,
   "metadata": {},
   "outputs": [
    {
     "name": "stdout",
     "output_type": "stream",
     "text": [
      "넌센스 퀴즈 : 스페인에서 에스파를 만나면?\n",
      "정답 :  에스파냐\n"
     ]
    }
   ],
   "source": [
    "넌센스, 정답 = input().split(\",\")          # split()에는 무엇으로 구분하여 나눌건지 입력 ex) 공백 : 스패이스바, \",\" 등\n",
    "print(f\"넌센스 퀴즈 : {넌센스}\")\n",
    "print(f\"정답 : {정답}\")"
   ]
  },
  {
   "cell_type": "code",
   "execution_count": 14,
   "metadata": {},
   "outputs": [
    {
     "name": "stdout",
     "output_type": "stream",
     "text": [
      "1 1 1 1\n",
      "<class 'int'> <class 'int'> <class 'int'> <class 'int'>\n"
     ]
    }
   ],
   "source": [
    "# 시퀀스 자료형에 다 지원되는 메소드\n",
    "번호1, 번호2, 번호3, 번호4 = input().split(\",\")\n",
    "\n",
    "번호1 = int(번호1)\n",
    "번호2 = int(번호2)\n",
    "번호3 = int(번호3)\n",
    "번호4 = int(번호4)\n",
    "\n",
    "print(번호1, 번호2, 번호3, 번호4)\n",
    "print(type(번호1), type(번호2), type(번호3), type(번호4))"
   ]
  },
  {
   "cell_type": "code",
   "execution_count": 15,
   "metadata": {},
   "outputs": [
    {
     "name": "stdout",
     "output_type": "stream",
     "text": [
      "<class 'int'> <class 'int'> <class 'int'> <class 'int'>\n"
     ]
    }
   ],
   "source": [
    "# map()\n",
    "\n",
    "번호1, 번호2, 번호3, 번호4 = map(int, input().split(\",\"))\n",
    "\n",
    "print(type(번호1), type(번호2), type(번호3), type(번호4))"
   ]
  },
  {
   "cell_type": "code",
   "execution_count": 17,
   "metadata": {},
   "outputs": [
    {
     "name": "stdout",
     "output_type": "stream",
     "text": [
      "주문이 완료되었습니다. 팥 붕어빵 1개, 슈크림 붕어빵 2개, 잡채 붕어빵 3개, 총 6개 결제 금액은 16000원 입니다.\n"
     ]
    }
   ],
   "source": [
    "# 레거시 : 누군가 남겨두고간 코드\n",
    "# 리팩토링 : 결과의 변경없이 코드의 구조를 재조정하는 것\n",
    "\n",
    "# 변수 선언\n",
    "fish__p, fish__s, fish__j = \"팥 붕어빵\", \"슈크림 붕어빵\", \"잡채 붕어빵\"\n",
    "fish__p__sell, fish__s__sell, fish__j__sell = 2000, 2500, 3000\n",
    "order__p, order__s, order__j = map(int, input(\"어떤 붕어빵으로 몇 개 드릴까요? 팥, 슈크림, 잡채 순으로 (,)로 구분하여 입력해주세요.\").split(\",\"))\n",
    "\n",
    "# 붕어빵 계산 금액\n",
    "order__p__pay, order__s__pay, order__j__pay = fish__p__sell * order__p, fish__s__sell * order__s, fish__j__sell * order__j\n",
    "\n",
    "# 총 구매 개수\n",
    "total = order__p + order__s + order__j\n",
    "\n",
    "# 총 구매 금액\n",
    "total__pay = order__p__pay + order__s__pay + order__j__pay\n",
    "\n",
    "# 출력\n",
    "print(f'주문이 완료되었습니다. {fish__p} {order__p}개, {fish__s} {order__s}개, {fish__j} {order__j}개, 총 {total}개 결제 금액은 {total__pay}원 입니다.')"
   ]
  },
  {
   "cell_type": "code",
   "execution_count": 21,
   "metadata": {},
   "outputs": [
    {
     "name": "stdout",
     "output_type": "stream",
     "text": [
      "초코칩 민트 샷추가 휘핑크림\n",
      "초코칩/민트/샷추가/휘핑크림\n",
      "초코칩 : 민트 : 샷추가 : 휘핑크림\n",
      "초코칩      민트      샷추가      휘핑크림\n",
      "초코칩\n",
      "민트\n",
      "샷추가\n",
      "휘핑크림\n"
     ]
    }
   ],
   "source": [
    "# print() 함수에 기능을 이용\n",
    "\n",
    "print(\"초코칩\", \"민트\",\"샷추가\", \"휘핑크림\")\n",
    "print(\"초코칩\", \"민트\",\"샷추가\", \"휘핑크림\", sep=\"/\")\n",
    "print(\"초코칩\", \"민트\",\"샷추가\", \"휘핑크림\", sep=\" : \")\n",
    "print(\"초코칩\", \"민트\",\"샷추가\", \"휘핑크림\", sep=\"      \")\n",
    "print(\"초코칩\", \"민트\",\"샷추가\", \"휘핑크림\", sep=\"\\n\")\n"
   ]
  },
  {
   "cell_type": "code",
   "execution_count": 22,
   "metadata": {},
   "outputs": [
    {
     "name": "stdout",
     "output_type": "stream",
     "text": [
      "초코칩 민트 샷추가 휘핑크림 초코칩 민트 샷추가 휘핑크림 초코칩 민트 샷추가 휘핑크림 "
     ]
    }
   ],
   "source": [
    "# end\n",
    "print(\"초코칩\", \"민트\",\"샷추가\", \"휘핑크림\", end=\" \")\n",
    "print(\"초코칩\", \"민트\",\"샷추가\", \"휘핑크림\", end=\" \")\n",
    "print(\"초코칩\", \"민트\",\"샷추가\", \"휘핑크림\", end=\" \")\n"
   ]
  }
 ],
 "metadata": {
  "kernelspec": {
   "display_name": "Python 3",
   "language": "python",
   "name": "python3"
  },
  "language_info": {
   "codemirror_mode": {
    "name": "ipython",
    "version": 3
   },
   "file_extension": ".py",
   "mimetype": "text/x-python",
   "name": "python",
   "nbconvert_exporter": "python",
   "pygments_lexer": "ipython3",
   "version": "3.9.6"
  }
 },
 "nbformat": 4,
 "nbformat_minor": 2
}
