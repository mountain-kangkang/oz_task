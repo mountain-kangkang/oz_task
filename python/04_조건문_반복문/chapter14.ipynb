{
 "cells": [
  {
   "cell_type": "markdown",
   "metadata": {},
   "source": [
    "## if문이란?\n",
    "+ 특정 조건일 때 코드를 실행하는 문법\n",
    "\n",
    "```\n",
    "    if 파이썬을 정복한다면:\n",
    "        개발자로 취직할 수 있다.\n",
    "```"
   ]
  },
  {
   "cell_type": "markdown",
   "metadata": {},
   "source": [
    "### if문  \n",
    "+ 예제로 if문 익혀보기\n",
    "> + 문제 : 문자열 a의 가운데 글자를 반환하는 코드\n",
    "> + 추가조건 : 문자열의 길이가 짝수라면 가운데 두 글자를 출력\n",
    "    > 입력값1 : \"abcde\" => c\n",
    "    > 입력값2 : \"qwer\" => we"
   ]
  },
  {
   "cell_type": "code",
   "execution_count": 6,
   "metadata": {},
   "outputs": [
    {
     "name": "stdout",
     "output_type": "stream",
     "text": [
      "짝\n",
      "cd\n"
     ]
    }
   ],
   "source": [
    "a = input(\"알파벳 문자열을 입력하시오.\")\n",
    "length = len(a)\n",
    "# print(length)\n",
    "\n",
    "if (length % 2) == 1:\n",
    "    print(\"홀\")\n",
    "    print(a[length//2])\n",
    "elif (length % 2) == 0:\n",
    "    print(\"짝\")\n",
    "    temp = a[(length//2)-1 : (length//2)]\n",
    "    print(temp)\n",
    "else:\n",
    "    print(\"error..!!\")\n",
    "\n",
    "# 가운데 인덱스 변수를 선언했으면 더 간결하고 보기 좋았을듯\n",
    "'''\n",
    "    center = length // 2\n",
    "    elif (length % 2) == 0:\n",
    "        print(a[(center-1) : center])\n",
    "'''\n",
    "# 이런식으로"
   ]
  }
 ],
 "metadata": {
  "kernelspec": {
   "display_name": "Python 3",
   "language": "python",
   "name": "python3"
  },
  "language_info": {
   "codemirror_mode": {
    "name": "ipython",
    "version": 3
   },
   "file_extension": ".py",
   "mimetype": "text/x-python",
   "name": "python",
   "nbconvert_exporter": "python",
   "pygments_lexer": "ipython3",
   "version": "3.9.6"
  }
 },
 "nbformat": 4,
 "nbformat_minor": 2
}
