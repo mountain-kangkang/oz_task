{
 "cells": [
  {
   "cell_type": "markdown",
   "metadata": {},
   "source": [
    "## for문이란?\n",
    "+ 프로그래밍 언어에서 반복되는 작업을 간단하게 처리하기 위해서 사용하는 문법"
   ]
  },
  {
   "cell_type": "code",
   "execution_count": 1,
   "metadata": {},
   "outputs": [
    {
     "name": "stdout",
     "output_type": "stream",
     "text": [
      "0\n",
      "1\n",
      "2\n",
      "3\n",
      "4\n"
     ]
    }
   ],
   "source": [
    "for i in range(5):\n",
    "    print(i)"
   ]
  },
  {
   "cell_type": "code",
   "execution_count": 8,
   "metadata": {},
   "outputs": [
    {
     "name": "stdout",
     "output_type": "stream",
     "text": [
      "9\n",
      "8\n",
      "7\n",
      "6\n",
      "5\n",
      "4\n",
      "3\n",
      "2\n",
      "1\n",
      "0\n"
     ]
    }
   ],
   "source": [
    "# for i in range(4, 10):\n",
    "#     print(i)\n",
    "\n",
    "# for i in range(1, 11, 2):\n",
    "#     print(i)\n",
    "\n",
    "# for i in range(10, 4, -1):\n",
    "#     print(i)\n",
    "\n",
    "# for i in range(10, 0, -2):\n",
    "#     print(i)\n",
    "\n",
    "for i in reversed(range(10)):\n",
    "    print(i)"
   ]
  },
  {
   "cell_type": "code",
   "execution_count": 11,
   "metadata": {},
   "outputs": [
    {
     "name": "stdout",
     "output_type": "stream",
     "text": [
      "두리안\n",
      "망고\n",
      "바나나\n",
      "멜론\n",
      "닥\n",
      "스\n",
      "훈\n",
      "트\n",
      "닥스훈트"
     ]
    }
   ],
   "source": [
    "과일 = [\"두리안\", \"망고\", \"바나나\", \"멜론\"]\n",
    "\n",
    "for i in 과일:\n",
    "    print(i)\n",
    "\n",
    "for i in \"닥스훈트\":\n",
    "    print(i)\n",
    "\n",
    "for i in \"닥스훈트\":\n",
    "    print(i, end='')"
   ]
  },
  {
   "cell_type": "code",
   "execution_count": 13,
   "metadata": {},
   "outputs": [
    {
     "name": "stdout",
     "output_type": "stream",
     "text": [
      "실제 정수의 합은 13 입니다.\n"
     ]
    }
   ],
   "source": [
    "# 예제로 for문 익혀보기\n",
    "# 문제 : 절대값 정수가 담긴 정수 변수와 그 정수의 부호를 차례로 담은 부호 변수가 있다\n",
    "# 두 변수를 이용해 실제 정수의 합을 구하시오. (True : 양수, False : 음수)\n",
    "\n",
    "정수 = [10, 5, 8]\n",
    "부호 = [True, False, True]\n",
    "\n",
    "sum = 0\n",
    "\n",
    "for i in range(len(정수)):\n",
    "    if 부호[i] == True:\n",
    "        sum += 정수[i]\n",
    "    elif 부호[i] == False:\n",
    "        sum -= 정수[i]\n",
    "    else:\n",
    "        print(\"error..!\")\n",
    "\n",
    "# 좀 더 간단하게\n",
    "'''\n",
    "for x, y in zip(정수, 부호):\n",
    "    if y:\n",
    "        sum += x\n",
    "    else:\n",
    "        sum -= y\n",
    "'''\n",
    "\n",
    "print(f\"실제 정수의 합은 {sum} 입니다.\")"
   ]
  }
 ],
 "metadata": {
  "kernelspec": {
   "display_name": "Python 3",
   "language": "python",
   "name": "python3"
  },
  "language_info": {
   "codemirror_mode": {
    "name": "ipython",
    "version": 3
   },
   "file_extension": ".py",
   "mimetype": "text/x-python",
   "name": "python",
   "nbconvert_exporter": "python",
   "pygments_lexer": "ipython3",
   "version": "3.9.6"
  }
 },
 "nbformat": 4,
 "nbformat_minor": 2
}
