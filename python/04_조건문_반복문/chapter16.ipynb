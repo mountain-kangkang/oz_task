{
 "cells": [
  {
   "cell_type": "markdown",
   "metadata": {},
   "source": [
    "## while\n",
    "+ 무한 루프 조심!!"
   ]
  },
  {
   "cell_type": "code",
   "execution_count": 2,
   "metadata": {},
   "outputs": [
    {
     "name": "stdout",
     "output_type": "stream",
     "text": [
      "5\n",
      "6\n",
      "6\n",
      "4\n"
     ]
    }
   ],
   "source": [
    "# while문이 for문보다 강점인 부분?\n",
    "# 무수히 많이 실행되어야 할 때\n",
    "\n",
    "import random\n",
    "\n",
    "# random.randint(1,6)\n",
    "\n",
    "i = 0\n",
    "\n",
    "while i != 4:\n",
    "    i = random.randint(1, 6)\n",
    "    print(i)"
   ]
  },
  {
   "cell_type": "code",
   "execution_count": 4,
   "metadata": {},
   "outputs": [
    {
     "name": "stdout",
     "output_type": "stream",
     "text": [
      "양파 다 팔렸어요\n"
     ]
    }
   ],
   "source": [
    "# while문에 else\n",
    "\n",
    "onion = 10\n",
    "\n",
    "while onion > 10:\n",
    "    print(f\"양파 {onion}개 남았습니다.\")\n",
    "    if onion == 0:\n",
    "        break\n",
    "    onion -= 1\n",
    "else:\n",
    "    print(\"양파 다 팔렸어요\")\n",
    "\n",
    "# else문이 없었다면 아무것도 출력되지 않았을거임"
   ]
  },
  {
   "cell_type": "code",
   "execution_count": 5,
   "metadata": {},
   "outputs": [
    {
     "name": "stdout",
     "output_type": "stream",
     "text": [
      "1\n",
      "2\n",
      "짝\n",
      "4\n",
      "5\n",
      "짝\n",
      "7\n",
      "8\n",
      "짝\n",
      "10\n",
      "11\n",
      "짝\n",
      "13\n",
      "14\n",
      "짝\n",
      "16\n",
      "17\n",
      "짝\n",
      "19\n",
      "20\n",
      "짝\n",
      "22\n"
     ]
    }
   ],
   "source": [
    "# continue & break\n",
    "i = 0\n",
    "\n",
    "while True:\n",
    "    i += 1\n",
    "    \n",
    "    if i % 3 == 0:\n",
    "        print(\"짝\")\n",
    "        continue\n",
    "    print(i)\n",
    "    if i > 20:\n",
    "        break"
   ]
  },
  {
   "cell_type": "code",
   "execution_count": 34,
   "metadata": {},
   "outputs": [
    {
     "name": "stdout",
     "output_type": "stream",
     "text": [
      "팥붕 2개\n",
      "슈붕 1개\n",
      "피붕 3개\n",
      "총 6개 15500원 되겠습니다..!\n"
     ]
    }
   ],
   "source": [
    "# 8. 붕어빵 인터네셔널은 내가 살린다 나도 이제 개발자\n",
    "# for문을 이용해 리팩토링을 해보자. input()...\n",
    "# 잡담 게시판에 코드 올려보기\n",
    "\n",
    "# 초기 코드\n",
    "# fish_p, fish_s, fish_j = \"팥붕\", \"슈붕\", \"잡붕\"\n",
    "# fish_p_sell, fish_s_sell, fish_j_sell = 2000, 2500, 3000\n",
    "# order_s, order_j = 2, 3\n",
    "# order_s_pay, order_j_pay = fish_s_sell * order_s, fish_j_sell * order_j\n",
    "# total = order_s + order_j\n",
    "# total_pay = order_s_pay + order_j_pay\n",
    "\n",
    "# print(f\"주문이 완료되었습니다. {fish_s} {order_s}개, {fish_j} {order_j}개, 총 {total}개 결제 금액은 {total_pay}원 입니다.\")\n",
    "\n",
    "\n",
    "# for문 사용 리팩토링\n",
    "menu = {                                                                                  # 붕어빵 가격표\n",
    "    \"팥\" : 2000,\n",
    "    \"슈\" : 2500,\n",
    "    \"피\" : 3000\n",
    "}\n",
    "\n",
    "order = list(input(\"어떤 붕어빵으로 몇 개 드릴까요? 예시 : 팥, 2, 슈, 1, 피, 3\").split(\", \"))       # 주문 입력 받기\n",
    "\n",
    "order_fish = []                                                                           # 붕어빵 종류 입력받을 리스트\n",
    "order_ea = []                                                                             # 붕어빵 개수 입력받을 리스트\n",
    "\n",
    "for i in range(len(order)):                                                               # 붕어빵 종류와 개수 나누어서 저장\n",
    "    if i % 2 == 0:\n",
    "        order_fish.append(order[i])\n",
    "    elif i % 2 == 1:\n",
    "        order_ea.append(int(order[i]))\n",
    "    else:\n",
    "        print(\"붕어빵 분류 에러..!\")\n",
    "\n",
    "total = 0\n",
    "total_pay = 0\n",
    "\n",
    "for x, y in zip(order_fish, order_ea):                                                   # 붕어빵 출력\n",
    "    total += y\n",
    "    total_pay += menu[x] * y\n",
    "    print(f\"{x}붕 {y}개\")\n",
    "\n",
    "print(f\"총 {total}개 {total_pay}원 되겠습니다..!\")"
   ]
  },
  {
   "cell_type": "code",
   "execution_count": 19,
   "metadata": {},
   "outputs": [
    {
     "name": "stdout",
     "output_type": "stream",
     "text": [
      "8 번 작업하였습니다.\n"
     ]
    }
   ],
   "source": [
    "# 예제로 while문 익혀보기\n",
    "\n",
    "# 콜라츠라는 사람은 주어진 수가 1이 될 때까지 다음 작업을 반복하면 모든 수를 1로 만들 수 있다고 추측했다.\n",
    "\n",
    "# 작업\n",
    "# 1. 입력된 수가 짝수라면 2로 나눈다\n",
    "# 2. 입력된 수가 홀수라면 3을 곱하고 1을 더한다.\n",
    "# 3. 위 결과로 나온 수가 1이 될 때 까지 반복한다.\n",
    "# ex) input -> 6 ==> 6->3->10->5->16->8->4->2->1\n",
    "\n",
    "# num 변수에 있는 수를 1로 만드는데 몇 번이나 작업을 반복해야하는지 출력한다.\n",
    "\n",
    "num = int(input(\"0보다 큰 수를 입력하시오.\"))\n",
    "how_many = 0\n",
    "\n",
    "while num > 1:\n",
    "    if (num % 2) == 0:\n",
    "        num /= 2\n",
    "    elif (num % 2) == 1:\n",
    "        num = (num * 3) + 1\n",
    "    else:\n",
    "        print(\"error..!\")\n",
    "    how_many += 1\n",
    "    if num == 1:\n",
    "        print(how_many, \"번 작업하였습니다.\")\n",
    "        break\n",
    "else:\n",
    "    print(\"0보다 큰 수를 입력하세요..!\")\n",
    "\n"
   ]
  }
 ],
 "metadata": {
  "kernelspec": {
   "display_name": "Python 3",
   "language": "python",
   "name": "python3"
  },
  "language_info": {
   "codemirror_mode": {
    "name": "ipython",
    "version": 3
   },
   "file_extension": ".py",
   "mimetype": "text/x-python",
   "name": "python",
   "nbconvert_exporter": "python",
   "pygments_lexer": "ipython3",
   "version": "3.9.6"
  }
 },
 "nbformat": 4,
 "nbformat_minor": 2
}
