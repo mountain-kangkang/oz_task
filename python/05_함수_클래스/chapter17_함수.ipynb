{
 "cells": [
  {
   "cell_type": "code",
   "execution_count": 1,
   "metadata": {},
   "outputs": [
    {
     "name": "stdout",
     "output_type": "stream",
     "text": [
      "101\n",
      "101\n"
     ]
    }
   ],
   "source": [
    "a = 100\n",
    "\n",
    "def f():\n",
    "    global a\n",
    "    a = a + 1\n",
    "    return a\n",
    "\n",
    "print(f())\n",
    "print(a)"
   ]
  },
  {
   "cell_type": "code",
   "execution_count": 3,
   "metadata": {},
   "outputs": [
    {
     "name": "stdout",
     "output_type": "stream",
     "text": [
      "6600 원입니다.\n"
     ]
    }
   ],
   "source": [
    "hanu = {\n",
    "    \"A등급\" : 1000,\n",
    "    \"B등급\" : 500,\n",
    "    \"C등급\" : 200\n",
    "}\n",
    "\n",
    "def 계산(a, b, c):\n",
    "    total = hanu[\"A등급\"] * a + hanu[\"B등급\"] * b + hanu[\"C등급\"] * c\n",
    "    return total\n",
    "\n",
    "print(계산(5, 2, 3), \"원입니다.\")\n",
    "\n",
    "\n",
    "# 딕셔너리는 글로벌 변서 선언 필요없이 함수내에서 호출이 가능함"
   ]
  },
  {
   "cell_type": "code",
   "execution_count": 6,
   "metadata": {},
   "outputs": [
    {
     "name": "stdout",
     "output_type": "stream",
     "text": [
      "{'A등급': 4, 'B등급': 3, 'C등급': 4, '금': 1}\n",
      "12\n"
     ]
    }
   ],
   "source": [
    "def 수확철():\n",
    "    야채 = {'A등급' : 0, 'B등급' : 0, 'C등급' : 0}\n",
    "\n",
    "    def 양파():\n",
    "        야채['A등급'] += 1\n",
    "\n",
    "    def 대파():\n",
    "        야채['A등급'] += 3\n",
    "        야채['B등급'] += 3\n",
    "        야채['C등급'] += 4\n",
    "\n",
    "    def 쪽파():\n",
    "        야채['금'] = 1\n",
    "    \n",
    "    양파()\n",
    "    대파()\n",
    "    쪽파()\n",
    "\n",
    "    return 야채\n",
    "\n",
    "print(수확철())\n",
    "print(sum(수확철().values()))"
   ]
  }
 ],
 "metadata": {
  "kernelspec": {
   "display_name": "Python 3",
   "language": "python",
   "name": "python3"
  },
  "language_info": {
   "codemirror_mode": {
    "name": "ipython",
    "version": 3
   },
   "file_extension": ".py",
   "mimetype": "text/x-python",
   "name": "python",
   "nbconvert_exporter": "python",
   "pygments_lexer": "ipython3",
   "version": "3.9.6"
  }
 },
 "nbformat": 4,
 "nbformat_minor": 2
}
