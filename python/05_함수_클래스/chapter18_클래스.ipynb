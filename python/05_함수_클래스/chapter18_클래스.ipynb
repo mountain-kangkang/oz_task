{
 "cells": [
  {
   "cell_type": "markdown",
   "metadata": {},
   "source": [
    "### 클래스\n",
    "\n",
    "객체에 해당하는 것들  \n",
    "> + 게임 캐릭터(궁수, 성직자 등등)\n",
    "> + 집, 나무, 자동차\n",
    "> + 네이버 홈페이지의 버튼들"
   ]
  },
  {
   "cell_type": "code",
   "execution_count": null,
   "metadata": {},
   "outputs": [],
   "source": [
    "'''\n",
    "class 클래스_이름:\n",
    "    def 메서드(self):       # self는 초기화를 시킨다는 의미\n",
    "        코드\n",
    "'''"
   ]
  },
  {
   "cell_type": "code",
   "execution_count": 1,
   "metadata": {},
   "outputs": [
    {
     "name": "stdout",
     "output_type": "stream",
     "text": [
      "왜인지 조금 지친다...\n"
     ]
    }
   ],
   "source": [
    "class Person:\n",
    "    def hello(self):                    \n",
    "        print('왜인지 조금 지친다...')\n",
    "\n",
    "호출 = Person()             # 인스턴스(호출에 'Person' 클래스를 할당시킨다)\n",
    "호출.hello()                # .index(), .count()"
   ]
  },
  {
   "cell_type": "code",
   "execution_count": 3,
   "metadata": {},
   "outputs": [
    {
     "name": "stdout",
     "output_type": "stream",
     "text": [
      "10\n",
      "[0, 1, 2, 3, 4, 5, 6, 7, 8, 9]\n"
     ]
    }
   ],
   "source": [
    "a = int(10)                 # int도 클래스\n",
    "print(a)\n",
    "\n",
    "b = list(range(10))         # list도 클래스, dict도 클래스\n",
    "print(b)                    # a, b 인스턴스\n",
    "\n",
    "# 인스턴스와 객체 무슨 차이?\n",
    "# 사실 인스턴스와 객체는 같음\n",
    "# 인스턴스 + 클래스\n",
    "# 객체 자체를 언급할 때는 객체"
   ]
  },
  {
   "cell_type": "code",
   "execution_count": 5,
   "metadata": {},
   "outputs": [
    {
     "data": {
      "text/plain": [
       "'\\nclass 클래스_이름:\\n    def __init__(self):\\n        self.속성 = 값\\n'"
      ]
     },
     "execution_count": 5,
     "metadata": {},
     "output_type": "execute_result"
    }
   ],
   "source": [
    "#클래스 안에 속성\n",
    "'''\n",
    "class 클래스_이름:\n",
    "    def __init__(self):\n",
    "        self.속성 = 값\n",
    "'''"
   ]
  },
  {
   "cell_type": "code",
   "execution_count": 6,
   "metadata": {},
   "outputs": [
    {
     "name": "stdout",
     "output_type": "stream",
     "text": [
      "안녕하세요\n"
     ]
    }
   ],
   "source": [
    "class Person:\n",
    "    def __init__(self):\n",
    "        self.hello = \"안녕하세요\"\n",
    "\n",
    "    def greeting(self):\n",
    "        print(self.hello)\n",
    "\n",
    "호출 = Person()\n",
    "호출.greeting()"
   ]
  },
  {
   "cell_type": "code",
   "execution_count": 7,
   "metadata": {},
   "outputs": [
    {
     "name": "stdout",
     "output_type": "stream",
     "text": [
      "['__abs__', '__add__', '__and__', '__bool__', '__ceil__', '__class__', '__delattr__', '__dir__', '__divmod__', '__doc__', '__eq__', '__float__', '__floor__', '__floordiv__', '__format__', '__ge__', '__getattribute__', '__getnewargs__', '__gt__', '__hash__', '__index__', '__init__', '__init_subclass__', '__int__', '__invert__', '__le__', '__lshift__', '__lt__', '__mod__', '__mul__', '__ne__', '__neg__', '__new__', '__or__', '__pos__', '__pow__', '__radd__', '__rand__', '__rdivmod__', '__reduce__', '__reduce_ex__', '__repr__', '__rfloordiv__', '__rlshift__', '__rmod__', '__rmul__', '__ror__', '__round__', '__rpow__', '__rrshift__', '__rshift__', '__rsub__', '__rtruediv__', '__rxor__', '__setattr__', '__sizeof__', '__str__', '__sub__', '__subclasshook__', '__truediv__', '__trunc__', '__xor__', 'as_integer_ratio', 'bit_length', 'conjugate', 'denominator', 'from_bytes', 'imag', 'numerator', 'real', 'to_bytes']\n"
     ]
    }
   ],
   "source": [
    "# 매직매서드\n",
    "print(dir(int))"
   ]
  },
  {
   "cell_type": "markdown",
   "metadata": {},
   "source": [
    "self  \n",
    "인스턴스 자기 자신을 의미  \n",
    "  \n",
    "\n",
    "여기서 init의 매개변수 self에 들어가는 값은 Person()이라고 할 수 있음"
   ]
  },
  {
   "cell_type": "code",
   "execution_count": 9,
   "metadata": {},
   "outputs": [
    {
     "data": {
      "text/plain": [
       "'\\nclass 클래스_이름:\\n    def __init__(self, 매개변수1, 매개변수2):\\n        self.속성1 = 매개변수1\\n        self.속성2 = 매개변수2\\n'"
      ]
     },
     "execution_count": 9,
     "metadata": {},
     "output_type": "execute_result"
    }
   ],
   "source": [
    "'''\n",
    "class 클래스_이름:\n",
    "    def __init__(self, 매개변수1, 매개변수2):\n",
    "        self.속성1 = 매개변수1\n",
    "        self.속성2 = 매개변수2\n",
    "'''"
   ]
  },
  {
   "cell_type": "code",
   "execution_count": 12,
   "metadata": {},
   "outputs": [
    {
     "name": "stdout",
     "output_type": "stream",
     "text": [
      "Hello~ 저는 maria입니다.\n",
      "Name : maria\n",
      "Age : 20\n",
      "Address : Seoul Seocho-Gu Banpo-Dong\n"
     ]
    }
   ],
   "source": [
    "class Person:\n",
    "    def __init__(self, name, age, address):\n",
    "        self.hello = \"Hello~\"\n",
    "        self.name = name\n",
    "        self.age = age\n",
    "        self.address = address\n",
    "\n",
    "    def greeting(self):\n",
    "        print(\"{0} 저는 {1}입니다.\".format(self.hello, self.name))\n",
    "\n",
    "maria = Person(\"maria\", 20, \"Seoul Seocho-Gu Banpo-Dong\")\n",
    "maria.greeting()\n",
    "\n",
    "print(\"Name :\", maria.name)\n",
    "print(\"Age :\", maria.age)\n",
    "print(\"Address :\", maria.address)"
   ]
  },
  {
   "cell_type": "markdown",
   "metadata": {},
   "source": [
    "## 클래스의 상속"
   ]
  },
  {
   "cell_type": "code",
   "execution_count": 14,
   "metadata": {},
   "outputs": [
    {
     "name": "stdout",
     "output_type": "stream",
     "text": [
      "300\n",
      "['__class__', '__delattr__', '__dict__', '__dir__', '__doc__', '__eq__', '__format__', '__ge__', '__getattribute__', '__gt__', '__hash__', '__init__', '__init_subclass__', '__le__', '__lt__', '__module__', '__ne__', '__new__', '__reduce__', '__reduce_ex__', '__repr__', '__setattr__', '__sizeof__', '__str__', '__subclasshook__', '__weakref__', 'battery', 'battery_KM', 'max_people', 'max_speed', 'move', 'stop']\n"
     ]
    }
   ],
   "source": [
    "class Car(object):\n",
    "    max_speed = 300\n",
    "    max_people = 5\n",
    "\n",
    "    def move(self, x):\n",
    "        print(\"스피드로 달리고 있습니다.\")\n",
    "    def stop(self):\n",
    "        print(\"멈췄습니다.\")\n",
    "\n",
    "class HybridCar(Car):\n",
    "    battery = 1000\n",
    "    battery_KM = 300\n",
    "\n",
    "k5 = HybridCar()\n",
    "print(k5.max_speed)\n",
    "\n",
    "print(dir(k5))"
   ]
  },
  {
   "cell_type": "code",
   "execution_count": 19,
   "metadata": {},
   "outputs": [
    {
     "name": "stdout",
     "output_type": "stream",
     "text": [
      "300\n"
     ]
    }
   ],
   "source": [
    "class Car(object):\n",
    "    max_speed = 300\n",
    "    max_people = 5\n",
    "\n",
    "    def move(self, x):\n",
    "        print(\"스피드로 달리고 있습니다.\")\n",
    "    def stop(self):\n",
    "        print(\"멈췄습니다.\")\n",
    "\n",
    "class HybridCar(Car):\n",
    "    battery = 1000\n",
    "    battery_KM = 300\n",
    "\n",
    "class ElectricCar(HybridCar):\n",
    "    bettery = 1010\n",
    "    bettery_KM = 290\n",
    "\n",
    "k5 = HybridCar()\n",
    "# print(k5.max_speed)\n",
    "\n",
    "k9 = ElectricCar()\n",
    "print(k9.max_speed)\n",
    "\n",
    "# print(dir(k5))"
   ]
  },
  {
   "cell_type": "code",
   "execution_count": 21,
   "metadata": {},
   "outputs": [
    {
     "name": "stdout",
     "output_type": "stream",
     "text": [
      "300\n",
      "300\n",
      "1010\n",
      "310 만큼 달릴 수 있습니다.\n",
      "10 KM 속도로 달리고 있습니다.\n"
     ]
    }
   ],
   "source": [
    "# 클래스 오버레이\n",
    "\n",
    "class Car(object):\n",
    "    max_speed = 300\n",
    "    max_people = 5\n",
    "\n",
    "    def move(self, x):\n",
    "        print(\"스피드로 달리고 있습니다.\")\n",
    "    def stop(self):\n",
    "        print(\"멈췄습니다.\")\n",
    "\n",
    "class HybridCar(Car):\n",
    "    battery = 1000\n",
    "    battery_KM = 300\n",
    "\n",
    "class ElectricCar(HybridCar):\n",
    "    battery = 1010\n",
    "    battery_KM = 310\n",
    "\n",
    "    def move(self, x):                      # 파이썬에서는 메소드 오버레이 중 마지막 오버레이를 인정해줌\n",
    "        print(self.battery_KM, \"만큼 달릴 수 있습니다.\")\n",
    "        print(x, \"KM 속도로 달리고 있습니다.\")\n",
    "\n",
    "k5 = HybridCar()\n",
    "print(k5.max_speed)\n",
    "\n",
    "k9 = ElectricCar()\n",
    "print(k9.max_speed)\n",
    "print(k9.battery)\n",
    "k9.move(10)\n",
    "\n",
    "# print(dir(k5))"
   ]
  },
  {
   "cell_type": "code",
   "execution_count": null,
   "metadata": {},
   "outputs": [],
   "source": []
  }
 ],
 "metadata": {
  "kernelspec": {
   "display_name": "Python 3",
   "language": "python",
   "name": "python3"
  },
  "language_info": {
   "codemirror_mode": {
    "name": "ipython",
    "version": 3
   },
   "file_extension": ".py",
   "mimetype": "text/x-python",
   "name": "python",
   "nbconvert_exporter": "python",
   "pygments_lexer": "ipython3",
   "version": "3.9.6"
  }
 },
 "nbformat": 4,
 "nbformat_minor": 2
}
