{
 "cells": [
  {
   "cell_type": "code",
   "execution_count": 2,
   "metadata": {},
   "outputs": [
    {
     "name": "stdout",
     "output_type": "stream",
     "text": [
      "예외가 발생했습니다.\n"
     ]
    }
   ],
   "source": [
    "# 예외코드 작성\n",
    "\n",
    "try:\n",
    "    x = int(input(\"나눌 숫자를 입력하세요\"))\n",
    "    y = 10 / x\n",
    "    print(y)\n",
    "except:\n",
    "    print(\"예외가 발생했습니다.\")"
   ]
  },
  {
   "cell_type": "code",
   "execution_count": 7,
   "metadata": {},
   "outputs": [
    {
     "name": "stdout",
     "output_type": "stream",
     "text": [
      "Index error..!\n"
     ]
    }
   ],
   "source": [
    "y = [10, 20, 30]\n",
    "\n",
    "try:\n",
    "    index, x = map(int, input(\"나눌 숫자를 입력하세요 : \").split(','))\n",
    "    print(y[index]/x)\n",
    "except ZeroDivisionError:\n",
    "    print(\"숫자를 0으로 나눌 수 없습니다.\")\n",
    "except IndexError:\n",
    "    print(\"Index error..!\")"
   ]
  },
  {
   "cell_type": "code",
   "execution_count": 9,
   "metadata": {},
   "outputs": [
    {
     "name": "stdout",
     "output_type": "stream",
     "text": [
      "3.3333333333333335\n",
      "성공..!\n"
     ]
    }
   ],
   "source": [
    "try:\n",
    "    x = int(input(\"나눌 숫자를 입력하세요\"))\n",
    "    y = 10 / x\n",
    "    print(y)\n",
    "except:\n",
    "    print(\"예외가 발생했습니다.\")\n",
    "else:\n",
    "    print(\"성공..!\")"
   ]
  },
  {
   "cell_type": "code",
   "execution_count": 10,
   "metadata": {},
   "outputs": [
    {
     "name": "stdout",
     "output_type": "stream",
     "text": [
      "예외가 발생했습니다.\n",
      "코드 실행이 종료됩니다.\n"
     ]
    }
   ],
   "source": [
    "try:\n",
    "    x = int(input(\"나눌 숫자를 입력하세요\"))\n",
    "    y = 10 / x\n",
    "    print(y)\n",
    "except:\n",
    "    print(\"예외가 발생했습니다.\")\n",
    "else:\n",
    "    print(\"성공..!\")\n",
    "finally:\n",
    "    print(\"코드 실행이 종료됩니다.\")"
   ]
  },
  {
   "cell_type": "code",
   "execution_count": null,
   "metadata": {},
   "outputs": [],
   "source": [
    "try:\n",
    "    x = int(input(\"나눌 숫자를 입력하세요\"))\n",
    "    y = 10 / x\n",
    "    raise               # 임의로 예외 발생\n",
    "    print(y)\n",
    "except:\n",
    "    print(\"예외가 발생했습니다.\")\n",
    "else:\n",
    "    print(\"성공..!\")\n",
    "finally:\n",
    "    print(\"코드 실행이 종료됩니다.\")"
   ]
  }
 ],
 "metadata": {
  "kernelspec": {
   "display_name": "Python 3",
   "language": "python",
   "name": "python3"
  },
  "language_info": {
   "codemirror_mode": {
    "name": "ipython",
    "version": 3
   },
   "file_extension": ".py",
   "mimetype": "text/x-python",
   "name": "python",
   "nbconvert_exporter": "python",
   "pygments_lexer": "ipython3",
   "version": "3.9.6"
  }
 },
 "nbformat": 4,
 "nbformat_minor": 2
}
