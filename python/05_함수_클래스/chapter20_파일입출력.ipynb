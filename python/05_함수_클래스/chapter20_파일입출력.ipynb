{
 "cells": [
  {
   "cell_type": "markdown",
   "metadata": {},
   "source": [
    "## 파일 입출력  \n",
    "  \n",
    "### web -> 크롤링 -> 데이터베이스 -> 1차 클렌징 -> 출력 후 담당자에게 전달 -> 2차 클렌징 -> 유용한 데이터셋 -> csv 데이터베이스 입력 -> 인공지능 학습"
   ]
  },
  {
   "cell_type": "code",
   "execution_count": 2,
   "metadata": {},
   "outputs": [
    {
     "data": {
      "text/plain": [
       "'/Users/mac/Desktop/ozoz/python/05_함수_클래스'"
      ]
     },
     "execution_count": 2,
     "metadata": {},
     "output_type": "execute_result"
    }
   ],
   "source": [
    "pwd         # 현재 폴더 위치"
   ]
  },
  {
   "cell_type": "code",
   "execution_count": 4,
   "metadata": {},
   "outputs": [
    {
     "name": "stdout",
     "output_type": "stream",
     "text": [
      "/Users/mac/Desktop/ozoz/python/05_함수_클래스/temp\n"
     ]
    }
   ],
   "source": [
    "cd /Users/mac/Desktop/ozoz/python/05_함수_클래스/temp"
   ]
  },
  {
   "cell_type": "markdown",
   "metadata": {},
   "source": [
    "r : 읽기  \n",
    "w : 쓰기 (주의! 덮어쓰기)  \n",
    "a : 추가"
   ]
  },
  {
   "cell_type": "code",
   "execution_count": 7,
   "metadata": {},
   "outputs": [],
   "source": [
    "f = open('text.txt', 'w')\n",
    "f.write('daskete-±')\n",
    "f.close()"
   ]
  },
  {
   "cell_type": "code",
   "execution_count": 8,
   "metadata": {},
   "outputs": [],
   "source": [
    "f = open('text.txt', 'w')\n",
    "f.write('살려줘-±')\n",
    "f.close()"
   ]
  },
  {
   "cell_type": "code",
   "execution_count": 9,
   "metadata": {},
   "outputs": [],
   "source": [
    "f = open('text.txt', 'w')\n",
    "f.write('''somebody help-\n",
    "anybody here\n",
    "anybody here\n",
    "anybody here\n",
    "anybody here\n",
    "        ?\n",
    "''')\n",
    "f.close()"
   ]
  },
  {
   "cell_type": "code",
   "execution_count": 15,
   "metadata": {},
   "outputs": [],
   "source": [
    "f = open('text.txt', 'w')\n",
    "messege = ''\n",
    "\n",
    "for i in range(10):\n",
    "    messege += str(i)\n",
    "    f.write(messege + '\\n')\n",
    "\n",
    "f.close()"
   ]
  },
  {
   "cell_type": "code",
   "execution_count": 17,
   "metadata": {},
   "outputs": [
    {
     "name": "stdout",
     "output_type": "stream",
     "text": [
      "<class 'str'> 0\n",
      "01\n",
      "012\n",
      "0123\n",
      "01234\n",
      "012345\n",
      "0123456\n",
      "01234567\n",
      "012345678\n",
      "0123456789\n",
      "\n"
     ]
    }
   ],
   "source": [
    "f = open('text.txt', 'r')\n",
    "s = f.read()\n",
    "print(s)\n",
    "f.close()"
   ]
  },
  {
   "cell_type": "code",
   "execution_count": 18,
   "metadata": {},
   "outputs": [
    {
     "name": "stdout",
     "output_type": "stream",
     "text": [
      "0\n",
      "\n",
      "<class 'str'>\n"
     ]
    }
   ],
   "source": [
    "f = open('text.txt', 'r')\n",
    "line = f.readline()\n",
    "print(line)\n",
    "print(type(line))\n",
    "f.close()"
   ]
  },
  {
   "cell_type": "code",
   "execution_count": 19,
   "metadata": {},
   "outputs": [
    {
     "name": "stdout",
     "output_type": "stream",
     "text": [
      "0\n",
      "\n",
      "01\n",
      "\n",
      "012\n",
      "\n",
      "0123\n",
      "\n",
      "01234\n",
      "\n",
      "012345\n",
      "\n",
      "0123456\n",
      "\n",
      "01234567\n",
      "\n",
      "012345678\n",
      "\n",
      "0123456789\n",
      "\n",
      "\n"
     ]
    }
   ],
   "source": [
    "f = open('text.txt', 'r')\n",
    "while line:\n",
    "    line = f.readline()\n",
    "    print(line)\n",
    "f.close()"
   ]
  },
  {
   "cell_type": "code",
   "execution_count": 20,
   "metadata": {},
   "outputs": [],
   "source": [
    "f = open('text.txt', 'a')\n",
    "f.write(\"hehehe\")\n",
    "f.close()"
   ]
  },
  {
   "cell_type": "code",
   "execution_count": 22,
   "metadata": {},
   "outputs": [],
   "source": [
    "with open('text.txt', 'a') as f:\n",
    "    f.write(\"잼밌당..!\\n\")"
   ]
  },
  {
   "cell_type": "code",
   "execution_count": 23,
   "metadata": {},
   "outputs": [],
   "source": [
    "list = [10, 20, 30]\n",
    "\n",
    "with open('text.txt', 'a') as f:\n",
    "    f.write(str(list))"
   ]
  },
  {
   "cell_type": "code",
   "execution_count": 24,
   "metadata": {},
   "outputs": [],
   "source": [
    "list = [10, 20, 30]\n",
    "\n",
    "with open('text.txt', 'w') as f:\n",
    "    f.write('let test =' + str(list))"
   ]
  },
  {
   "cell_type": "code",
   "execution_count": 26,
   "metadata": {},
   "outputs": [],
   "source": [
    "list = ['10', '20', '30']\n",
    "\n",
    "with open('text.txt', 'w') as f:\n",
    "    f.writelines(list)"
   ]
  },
  {
   "cell_type": "code",
   "execution_count": 28,
   "metadata": {},
   "outputs": [],
   "source": [
    "# csv\n",
    "list = ['10', '20', '30']\n",
    "\n",
    "with open('test.csv', 'w') as f:\n",
    "    f.write(','.join(list))"
   ]
  }
 ],
 "metadata": {
  "kernelspec": {
   "display_name": "Python 3",
   "language": "python",
   "name": "python3"
  },
  "language_info": {
   "codemirror_mode": {
    "name": "ipython",
    "version": 3
   },
   "file_extension": ".py",
   "mimetype": "text/x-python",
   "name": "python",
   "nbconvert_exporter": "python",
   "pygments_lexer": "ipython3",
   "version": "3.9.6"
  }
 },
 "nbformat": 4,
 "nbformat_minor": 2
}
