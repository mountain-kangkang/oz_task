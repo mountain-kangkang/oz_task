{
 "cells": [
  {
   "cell_type": "markdown",
   "metadata": {},
   "source": [
    "### Chapter 21(함수 기본)\n",
    "+ 함수의 기본 구조에 대해 설명해보세요\n",
    "+ 함수 호출은 무엇을 의미하고 어떻게 할 수 있나요?\n",
    "+ 매개변수란 무엇인가요?\n",
    "+ 식별자는 무엇이고 사용하는 이유는 뭔가요?\n",
    "+ 식별자는 함수 안에서 어떻게 사용되나요?"
   ]
  },
  {
   "cell_type": "markdown",
   "metadata": {},
   "source": [
    "### Chapter 22-23(가변 매개변수)\n",
    "+ 가변 매개 변수를 사용하는 이유에 대해 설명해보세요\n",
    "+ 가변 매개 변수를 사용하기 위한 문법은 어떻게 되나요?\n",
    "+ 가변 매개 변수를 사용하기 위한 제약 조건에 대해 설명해주세요"
   ]
  },
  {
   "cell_type": "markdown",
   "metadata": {},
   "source": [
    "### Chapter 24 (키워드 매개변수)\n",
    "+ 키워드 매개변수를 사용하는 이유에 대해 설명해주세요\n",
    "+ 키워드 매개변수를 사용하기 위한 문법에 대해 설명해주세요"
   ]
  },
  {
   "cell_type": "markdown",
   "metadata": {},
   "source": [
    "### Chapter 25 (함수 리턴)\n",
    "> input() 함수는  값을 입력받을 수 있게 해주는 기능을 가지고 있는 것으로만 생각하고 사용해왔습니다.  \n",
    "> return이라는  개념을 넣어서 이 과정을 설명해볼 수 있을 것 같습니다.\n",
    "> \n",
    "> 아주 간단합니다.  \n",
    "> input()함수는 입력받은 값을 문자열로 돌려줍니다. 여기서 돌려준다는 의미는 무엇일까요?  \n",
    "> 맞습니다. return을 한다는 의미입니다.\n",
    "> \n",
    "> 그렇게 때문에 input()을 통해 입력받은 값을 변수에 담아 사용할 수 있게 되는거죠\n",
    "> \n",
    "> 대부분 무엇인가를 반환하는 함수들은 return을 이용한다고 생각하시면 됩니다."
   ]
  },
  {
   "cell_type": "code",
   "execution_count": null,
   "metadata": {},
   "outputs": [],
   "source": [
    "def input(string):\n",
    "    return string"
   ]
  }
 ],
 "metadata": {
  "language_info": {
   "name": "python"
  }
 },
 "nbformat": 4,
 "nbformat_minor": 2
}
