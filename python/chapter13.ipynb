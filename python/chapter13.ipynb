{
 "cells": [
  {
   "cell_type": "markdown",
   "metadata": {},
   "source": [
    "## 시퀀스 자료형\n",
    "+ 문자열\n",
    "    + 시퀀스형에서 사용할 수 있는 메소드(count(), index(), split() 등...)\n",
    "    + 슬라이싱 ( [ : ], [ : : ])\n",
    "    + 요소들로 이루어져 가능했던 기능들 (요소 합치기, 요소 찾기 등등)\n",
    "+ list\n",
    "    + 시퀀스형에서 사용할 수 있는 메소드(count(), index(), split() 등...)\n",
    "    + 슬라이싱 ( [ : ], [ : : ])\n",
    "    + 요소들로 이루어져 가능했던 기능들 (요소 합치기, 요소 찾기 등등)\n",
    "    + list 지원하는 다양한 메소드(append(), insert(), del, sort(), reverse() emd)\n",
    "+ tuple\n",
    "    + list처럼 요소를 일렬로 저장하지만 안에 저장된 요소를 변경, 추가, 삭제할 수 없다.\n",
    "    + 값을 추가, 삭제, 변경할 수 없기 때문에 사용하지 못하는 메소드가 많다.\n",
    "    + tuple의 생성 방법은 tuple = 값, 값 또는 tuple = (값, 값\n",
    "    + 그리고 엄청난 비밀이 숨겨져 있다?\n",
    "    + 튜플은 소괄호입니다.\n",
    "+ dict(딕셔너리)\n",
    "    + list, tuple, str, range(범위안에 연속된 데이터를 만드는 시퀀스)(데이터의 연관성 없음)\n",
    "    + dict는 여러개의 값이 일렬로 정렬되면서도 값끼리의 연관성이 존재\n",
    "    (ex : 게임 캐릭터 힘:30, 지능:20, 체력:40, 민첩:90)\n",
    "    + dict 생성방법은 중괄호{}\n",
    "+ set\n",
    "    + set은 수학의 집합을 의미함\n",
    "    + 딕셔너리와 같이 순서가 없음\n",
    "    + 값의 중복을 허락하지 않음. !! 아주 중요 !!\n",
    "    + set의 생성 방법도 중괄호 {}"
   ]
  },
  {
   "cell_type": "code",
   "execution_count": 18,
   "metadata": {},
   "outputs": [
    {
     "name": "stdout",
     "output_type": "stream",
     "text": [
      "<class 'set'>\n",
      "{'양파', '당근', '대파', '배추'}\n",
      "set()\n",
      "{}\n"
     ]
    }
   ],
   "source": [
    "채소 = {\"당근\", \"배추\", \"대파\", \"양파\"}         # 딕셔너리와 같은 중괄호지만 key값은 없고 value만 존재함\n",
    "print(type(채소))\n",
    "print(채소)\n",
    "\n",
    "# 순서가 없고, 출력하면 요소의 순서가 다르게 나옴.. 이게뭐야..\n",
    "\n",
    "# set를 만드는 다양한 방법\n",
    "세트1 = set()\n",
    "세트2 = {}\n",
    "print(세트1)\n",
    "print(세트2)"
   ]
  },
  {
   "cell_type": "code",
   "execution_count": 6,
   "metadata": {},
   "outputs": [
    {
     "name": "stdout",
     "output_type": "stream",
     "text": [
      "['a', 'p', 'p', 'l', 'e']\n",
      "('a', 'p', 'p', 'l', 'e')\n",
      "{'e', 'p', 'l', 'a'}\n"
     ]
    }
   ],
   "source": [
    "# set은 중복을 싫어한다\n",
    "\n",
    "apple_list = list(\"apple\")\n",
    "apple_tuple = tuple(\"apple\")\n",
    "apple_set = set(\"apple\")\n",
    "\n",
    "print(apple_list)\n",
    "print(apple_tuple)\n",
    "print(apple_set)"
   ]
  },
  {
   "cell_type": "code",
   "execution_count": 19,
   "metadata": {},
   "outputs": [
    {
     "name": "stdout",
     "output_type": "stream",
     "text": [
      "{'양파', '당근', '대파', '배추'}\n",
      "{'양파', '당근', '대파', '토마토', '배추'}\n",
      "{'잎', '양파', '당근', '대파', '토마토', '깻', '배추'}\n",
      "{'양파', '당근', '대파', '토마토', '깻', '배추'}\n",
      "{'양파', '당근', '대파', '토마토', '배추'}\n",
      "{'양파', '당근', '대파', '토마토', '배추'}\n",
      "{'당근', '대파', '토마토', '배추'}\n"
     ]
    }
   ],
   "source": [
    "# set 자료형에 데디터 추가, 삭제, 변경\n",
    "print(채소)\n",
    "\n",
    "# set 자료형에 함수로 데이터 삽입\n",
    "채소.add(\"토마토\")              # \"토마토\" 자체가 하나의 요소로 삽입됨\n",
    "print(채소)\n",
    "\n",
    "채소.update(\"깻잎\")            # \"깻\" 과 \"잎\"으로 나누어져 각각 하나의 요소로서 삽입됨\n",
    "print(채소)\n",
    "\n",
    "# set 자료형의 데이터 삭제\n",
    "채소.remove(\"잎\")\n",
    "print(채소)\n",
    "\n",
    "# 채소.remove(\"잎\")             # remove로 없는 요소를 삭제하면 에러 발생\n",
    "\n",
    "채소.discard(\"깻\")\n",
    "print(채소)\n",
    "\n",
    "채소.discard(\"깻\")              # discard는 없는 요소를 삭제하려해도 에러가 발생하지 않음\n",
    "print(채소)\n",
    "\n",
    "채소.pop()                     # 다른 자료형에서 팝은 끝에 있는 자료 삭제하지만 여기선 랜덤임\n",
    "print(채소)"
   ]
  },
  {
   "cell_type": "code",
   "execution_count": 21,
   "metadata": {},
   "outputs": [
    {
     "name": "stdout",
     "output_type": "stream",
     "text": [
      "버려진 양파\n",
      "{'당근', '대파', '배추'}\n"
     ]
    }
   ],
   "source": [
    "채소 = {\"당근\", \"배추\", \"대파\", \"양파\"}\n",
    "\n",
    "반환된_채소 = 채소.pop()\n",
    "print(f\"버려진 {반환된_채소}\")\n",
    "print(채소)"
   ]
  },
  {
   "cell_type": "code",
   "execution_count": 26,
   "metadata": {},
   "outputs": [
    {
     "name": "stdout",
     "output_type": "stream",
     "text": [
      "{'양파', '당근', '대파', '오이', '가지', '배추'}\n",
      "{'양파', '당근', '대파', '오이', '가지', '배추'}\n",
      "{'양파', '오이'}\n",
      "{'양파', '오이'}\n",
      "{'당근', '배추'}\n",
      "{'당근', '배추'}\n"
     ]
    }
   ],
   "source": [
    "# set = 집합, 합집합, 교집합, 차집합 기타 등등..\n",
    "# 대표적으로 합집합, 교집합, 차집합\n",
    "\n",
    "채소1 = {\"당근\", \"양파\", \"오이\", \"배추\"}\n",
    "채소2 = {\"양파\", \"오이\", \"대파\", \"가지\"}\n",
    "\n",
    "# 합집합(union)\n",
    "print(채소1 | 채소2)\n",
    "print(set.union(채소1, 채소2))\n",
    "\n",
    "# 교집합(intersection)\n",
    "print(채소1 & 채소2)\n",
    "print(set.intersection(채소1, 채소2))\n",
    "\n",
    "# 차집합(difference)\n",
    "print(채소1 - 채소2)\n",
    "print(set.difference(채소1, 채소2))\n"
   ]
  }
 ],
 "metadata": {
  "kernelspec": {
   "display_name": "Python 3",
   "language": "python",
   "name": "python3"
  },
  "language_info": {
   "codemirror_mode": {
    "name": "ipython",
    "version": 3
   },
   "file_extension": ".py",
   "mimetype": "text/x-python",
   "name": "python",
   "nbconvert_exporter": "python",
   "pygments_lexer": "ipython3",
   "version": "3.9.6"
  }
 },
 "nbformat": 4,
 "nbformat_minor": 2
}
