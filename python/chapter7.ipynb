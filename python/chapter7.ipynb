{
 "cells": [
  {
   "cell_type": "markdown",
   "metadata": {},
   "source": [
    "### 자료형\n",
    "+ int(integer) : 정수\n",
    "+ float(float) : 실수\n",
    "+ str(string) : 문자\n",
    "+ bool(bool, boolean) : 참 또는 거짓, true 또는 false, 1 또는 0\n",
    "---\n",
    "+ list\n",
    "+ tuple\n",
    "+ dict\n",
    "+ set"
   ]
  },
  {
   "cell_type": "code",
   "execution_count": 3,
   "metadata": {},
   "outputs": [],
   "source": [
    "name = \"강산\"\n",
    "age =  27\n",
    "height = 170.1\n",
    "member = \"oz코딩스쿨 6기 백엔드\""
   ]
  },
  {
   "cell_type": "code",
   "execution_count": 4,
   "metadata": {},
   "outputs": [
    {
     "name": "stdout",
     "output_type": "stream",
     "text": [
      "<class 'str'>\n",
      "<class 'int'>\n",
      "<class 'float'>\n",
      "<class 'str'>\n"
     ]
    }
   ],
   "source": [
    "print(type(name))\n",
    "print(type(age))\n",
    "print(type(height))\n",
    "print(type(member))"
   ]
  },
  {
   "cell_type": "code",
   "execution_count": 6,
   "metadata": {},
   "outputs": [
    {
     "name": "stdout",
     "output_type": "stream",
     "text": [
      "원래 정수였던 변수가 실수형으로 -> 5.0\n",
      "원래 실수였던 변수가 정수형으로 -> 5\n",
      "출력되면 정수형인지, 실수형인지, 문자인지 구분이 안됨 ('5', '5.0')\n",
      "문자인데 말이지.. (<class 'str'>, <class 'str'>)\n"
     ]
    }
   ],
   "source": [
    "num_i = 5\n",
    "num_f = 5.0\n",
    "num_s1 = \"5\"\n",
    "num_s2 = \"5.0\"\n",
    "\n",
    "print(f'원래 정수였던 변수가 실수형으로 -> {float(num_i)}')\n",
    "print(f'원래 실수였던 변수가 정수형으로 -> {int(num_f)}')\n",
    "print(f'출력되면 정수형인지, 실수형인지, 문자인지 구분이 안됨 {num_s1, num_s2}')\n",
    "print(f'문자인데 말이지.. {type(num_s1), type(num_s2)}')"
   ]
  },
  {
   "cell_type": "markdown",
   "metadata": {},
   "source": [
    "str : 문자열   \n",
    "특징 : 시퀀스 자료형   \n",
    "시퀀스란?  \n",
    "요소들이 연속적으로 이어진 자료형"
   ]
  },
  {
   "cell_type": "code",
   "execution_count": 8,
   "metadata": {},
   "outputs": [
    {
     "name": "stdout",
     "output_type": "stream",
     "text": [
      "oz코딩스쿨 6기 백엔드\n",
      "o\n",
      "z\n",
      "코\n",
      "딩\n",
      "스\n",
      "쿨\n",
      " \n",
      "6\n",
      "기\n",
      " \n",
      "백\n",
      "엔\n",
      "드\n"
     ]
    }
   ],
   "source": [
    "print(member)\n",
    "print(member[0])\n",
    "print(member[1])\n",
    "print(member[2])\n",
    "print(member[3])\n",
    "print(member[4])\n",
    "print(member[5])\n",
    "print(member[6])\n",
    "print(member[7])\n",
    "print(member[8])\n",
    "print(member[9])\n",
    "print(member[10])\n",
    "print(member[11])\n",
    "print(member[12])"
   ]
  },
  {
   "cell_type": "code",
   "execution_count": 9,
   "metadata": {},
   "outputs": [
    {
     "name": "stdout",
     "output_type": "stream",
     "text": [
      "True\n",
      "False\n"
     ]
    }
   ],
   "source": [
    "print(\"코\" in member)\n",
    "print(\"5\" in member)"
   ]
  },
  {
   "cell_type": "code",
   "execution_count": 10,
   "metadata": {},
   "outputs": [
    {
     "name": "stdout",
     "output_type": "stream",
     "text": [
      "13금요일\n",
      "바니바니 당근당근바니바니 당근당근바니바니 당근당근바니바니 당근당근바니바니 당근당근바니바니 당근당근바니바니 당근당근바니바니 당근당근바니바니 당근당근바니바니 당근당근바니바니 당근당근바니바니 당근당근바니바니 당근당근바니바니 당근당근바니바니 당근당근바니바니 당근당근바니바니 당근당근바니바니 당근당근바니바니 당근당근바니바니 당근당근\n",
      "180\n"
     ]
    }
   ],
   "source": [
    "# 문자열(시퀀스) 끼리 합치기\n",
    "print(\"13\" + \"금요일\")\n",
    "\n",
    "# 복사 가능\n",
    "string20 = \"바니바니 당근당근\" * 20\n",
    "print(string20)\n",
    "print(len(string20))"
   ]
  },
  {
   "cell_type": "code",
   "execution_count": 12,
   "metadata": {},
   "outputs": [
    {
     "name": "stdout",
     "output_type": "stream",
     "text": [
      "카포에라\n",
      "카포에\n",
      "라\n"
     ]
    }
   ],
   "source": [
    "quiz = \"차 4내가 고장나면? 카포에라\"\n",
    "\n",
    "print(quiz[12:16])\n",
    "print(quiz[12:15])\n",
    "print(quiz[-1])\n"
   ]
  },
  {
   "cell_type": "code",
   "execution_count": 15,
   "metadata": {},
   "outputs": [
    {
     "name": "stdout",
     "output_type": "stream",
     "text": [
      "2000. 12. 25\n"
     ]
    }
   ],
   "source": [
    "birth = \"2000.12.25\"\n",
    "year = birth[0:4]\n",
    "month = birth[5:7]\n",
    "date = birth[-2:10]\n",
    "print(f\"{year}. {month}. {date}\")"
   ]
  },
  {
   "cell_type": "code",
   "execution_count": 24,
   "metadata": {},
   "outputs": [
    {
     "name": "stdout",
     "output_type": "stream",
     "text": [
      "11\n",
      "12345678910\n",
      "01987654321 \n",
      "\n",
      "135790\n",
      "543\n",
      "345\n"
     ]
    }
   ],
   "source": [
    "landom__num = \"12345678910\"\n",
    "\n",
    "print(len(landom__num))\n",
    "print(landom__num[::])          # 전체 출력\n",
    "print(landom__num[::-1], \"\\n\")        # 반대로 출력\n",
    "\n",
    "print(landom__num[::2])         # 1칸씩 띄어서 출력(이렇게하니깐 홀수번째만 출력됨)\n",
    "print(landom__num[4:1:-1])\n",
    "print(landom__num[2:5])"
   ]
  },
  {
   "cell_type": "code",
   "execution_count": 25,
   "metadata": {},
   "outputs": [
    {
     "name": "stdout",
     "output_type": "stream",
     "text": [
      "어중이떠중이\n"
     ]
    }
   ],
   "source": [
    "quiz2 = \"스님이 공중에 뜬다를 6글자로 말하면? 어중이떠중이\"     # 어? 중이떠! 중이!\n",
    "\n",
    "print(quiz2[22:28])"
   ]
  },
  {
   "cell_type": "code",
   "execution_count": 26,
   "metadata": {},
   "outputs": [
    {
     "name": "stdout",
     "output_type": "stream",
     "text": [
      "2\n",
      "p\n",
      "1\n"
     ]
    }
   ],
   "source": [
    "fruit = \"apple\"\n",
    "print(fruit.count(\"p\"))\n",
    "\n",
    "print(fruit[2])\n",
    "print(fruit.index(\"p\"))         # 가장 첫번째로 만나는 \"p\"의 리스트 넘버(배열 방 넘버)"
   ]
  },
  {
   "cell_type": "code",
   "execution_count": 30,
   "metadata": {},
   "outputs": [
    {
     "name": "stdout",
     "output_type": "stream",
     "text": [
      "열정! 열정! 열정!\n"
     ]
    }
   ],
   "source": [
    "la_la_land = \"사람들은 다른 사람들의 열정에 끌리게 되어있어 자신이 잊은 걸 상기시켜 주니까\"\n",
    "\n",
    "print(f\"{la_la_land[13:15]}! {la_la_land[13:15]}! {la_la_land[13:15]}!\")"
   ]
  }
 ],
 "metadata": {
  "kernelspec": {
   "display_name": "Python 3",
   "language": "python",
   "name": "python3"
  },
  "language_info": {
   "codemirror_mode": {
    "name": "ipython",
    "version": 3
   },
   "file_extension": ".py",
   "mimetype": "text/x-python",
   "name": "python",
   "nbconvert_exporter": "python",
   "pygments_lexer": "ipython3",
   "version": "3.9.6"
  }
 },
 "nbformat": 4,
 "nbformat_minor": 2
}
