{
 "cells": [
  {
   "cell_type": "markdown",
   "metadata": {},
   "source": [
    "##### task 1\n",
    "사용자로부터 두 개의 숫자를 입력받아 나눗셈을 수행하는 프로그램을 작성하세요. \n",
    "\n",
    "[예외처리]\n",
    "- 입력 값이 숫자가 아닐 때 발생할 수 있는 ValueError\n",
    "- 나누는 수가 0일 때 발생할 수 있는 ZeroDivisionError\n",
    "- 위 2가지 예외처리 후 사용자에게 이해하기 쉬운 메시지 작성 후 출력되도록 코드를 작성"
   ]
  },
  {
   "cell_type": "code",
   "execution_count": 8,
   "metadata": {},
   "outputs": [
    {
     "name": "stdout",
     "output_type": "stream",
     "text": [
      "2 / 1 = 2.0\n"
     ]
    }
   ],
   "source": [
    "number = []\n",
    "try:\n",
    "    number = list(map(int, input(\"나눌 두 수를 입력해주세요.(구분 : space)\").split(\" \")))\n",
    "    print(f\"{number[0]} / {number[1]} = {number[0] / number[1]}\")\n",
    "except ValueError:\n",
    "    print(\"정수로 입력해주세요\")\n",
    "except ZeroDivisionError:\n",
    "    print(\"현재 프로그램에서 0으로 나눌 수 없습니다..!\")"
   ]
  },
  {
   "cell_type": "markdown",
   "metadata": {},
   "source": [
    "---"
   ]
  },
  {
   "cell_type": "markdown",
   "metadata": {},
   "source": [
    "##### task 2\n",
    "파일을 읽어서 내용을 출력하는 프로그램을 작성하세요. \n",
    "\n",
    "- 파일이 존재하지 않을 때 발생하는 FileNotFoundError를 처리\n",
    "- 파일이 존재하지 않을 경우 \"파일을 찾을 수 없습니다.\"라는 메시지를 출력"
   ]
  },
  {
   "cell_type": "code",
   "execution_count": 9,
   "metadata": {},
   "outputs": [
    {
     "name": "stdout",
     "output_type": "stream",
     "text": [
      "안녕하세요 수강생 여러분!! \n",
      "이 파일을 읽어주시면 됩니다. \n"
     ]
    }
   ],
   "source": [
    "try:\n",
    "    f = open('myfile.txt', 'r')\n",
    "    s = f.read()\n",
    "    print(s)\n",
    "    f.close()\n",
    "except FileNotFoundError:\n",
    "    print(\"파일을 찾을 수 없습니다.\")"
   ]
  },
  {
   "cell_type": "markdown",
   "metadata": {},
   "source": [
    "---"
   ]
  },
  {
   "cell_type": "markdown",
   "metadata": {},
   "source": [
    "##### task 3\n",
    "사용자로부터 여러 개의 숫자를 입력받아 리스트에 저장한 후, 사용자가 'done'이라고 입력할 때까지 계속 입력받으세요. \n",
    "\n",
    "- 입력 중 숫자가 아닌 값이 입력되면 ValueError를 처리\n",
    "- 숫자 외 값이 입력된 경우 어떤 값이 잘못 입력되었는지 사용자에게 알려주는 문구 출력<br>\n",
    "  (예: f\"잘못된 값: {변수}. 숫자를 입력해주세요.\")"
   ]
  },
  {
   "cell_type": "code",
   "execution_count": 10,
   "metadata": {},
   "outputs": [
    {
     "name": "stdout",
     "output_type": "stream",
     "text": [
      "잘못된 값 : s, 정수를 입력해주세요.\n",
      "입력 종료됨\n",
      "\n",
      "[1, 2, 3, 4, 6]\n"
     ]
    }
   ],
   "source": [
    "num_list = []\n",
    "\n",
    "while True:\n",
    "    try:\n",
    "        temp = input(\"저장할 정수를 입력해주세요.\")\n",
    "        if temp == \"done\":\n",
    "            print(\"입력 종료됨\\n\")\n",
    "            break\n",
    "        num_list.append(int(temp))\n",
    "    except ValueError:\n",
    "        print(f\"잘못된 값 : {temp}, 정수를 입력해주세요.\")\n",
    "\n",
    "print(num_list)"
   ]
  },
  {
   "cell_type": "markdown",
   "metadata": {},
   "source": [
    "---"
   ]
  },
  {
   "cell_type": "markdown",
   "metadata": {},
   "source": [
    "##### taks 4\n",
    "사용자 정의 예외 NegativeNumberError를 생성하고, 사용자로부터 숫자를 입력받아 음수일 경우 NegativeNumberError를 발생시키는 프로그램을 작성하세요. \n",
    "\n",
    "- 예외 처리 구문을 사용하여 음수 입력 시 \"양수를 입력해주세요.\"라는 메시지를 출력"
   ]
  },
  {
   "cell_type": "code",
   "execution_count": 4,
   "metadata": {},
   "outputs": [
    {
     "name": "stdout",
     "output_type": "stream",
     "text": [
      "NegativeNumberError : 음수가 입력되었습니다.\n",
      "<class '__main__.NegativeNumberError'>\n",
      "양수를 입력해주세요\n"
     ]
    }
   ],
   "source": [
    "class NegativeNumberError(Exception):\n",
    "    def __init__(self) -> None:\n",
    "        self.type = \"NegativeNumberError\"\n",
    "        self.msg = \"음수가 입력되었습니다.\"\n",
    "    \n",
    "    def __str__(self) -> str:\n",
    "        return f\"{self.type} : {self.msg}\"\n",
    "\n",
    "try:\n",
    "    number = int(input(\"양수를 입력해주세요.\"))\n",
    "    if number < 0:\n",
    "        raise NegativeNumberError()\n",
    "except NegativeNumberError as exception:\n",
    "    print(exception)\n",
    "    print(type(exception))\n",
    "    print(\"양수를 입력해주세요\")\n"
   ]
  },
  {
   "cell_type": "markdown",
   "metadata": {},
   "source": [
    "---"
   ]
  },
  {
   "cell_type": "markdown",
   "metadata": {},
   "source": [
    "##### task 5\n",
    "datetime 모듈을 사용하여 현재 날짜와 시간을 출력하는 프로그램을 작성하세요. \n",
    "\n",
    "또한, 사용자로부터 태어난 년도를 입력받아 현재 나이를 계산하여 출력하세요."
   ]
  },
  {
   "cell_type": "code",
   "execution_count": 20,
   "metadata": {},
   "outputs": [
    {
     "name": "stdout",
     "output_type": "stream",
     "text": [
      "2024-09-13\n",
      "당신의 나이는 만 27입니다.\n"
     ]
    }
   ],
   "source": [
    "import datetime\n",
    "\n",
    "now = datetime.datetime.now()\n",
    "date = now.date()\n",
    "print(date)\n",
    "\n",
    "# str = date.strftime(\"%Y년 %m월 %d일\")\n",
    "# print(str)\n",
    "\n",
    "year = int(date.strftime(\"%Y\"))\n",
    "# print(year)\n",
    "\n",
    "user_born = int(input(\"태어난 년도를 입력해주세요.\"))\n",
    "\n",
    "age = year - user_born\n",
    "print(f\"당신의 나이는 만 {age}입니다.\")\n"
   ]
  },
  {
   "cell_type": "markdown",
   "metadata": {},
   "source": [
    "---"
   ]
  },
  {
   "cell_type": "markdown",
   "metadata": {},
   "source": [
    "##### task 6\n",
    "requests 모듈을 사용하여, 웹 페이지의 HTML을 가져오는 간단한 웹 스크레이퍼를 작성하세요.\n",
    "\n",
    "'https://kream.co.kr/' 에서<br> \n",
    "데이터를 가져와서 상태 코드와 HTML의 첫 100자를 출력하세요.<br>\n",
    "(실습 전 requests 모듈을 설치해야 함)"
   ]
  },
  {
   "cell_type": "code",
   "execution_count": 25,
   "metadata": {},
   "outputs": [
    {
     "name": "stdout",
     "output_type": "stream",
     "text": [
      "503\n",
      "<!DOCTYPE html>\n",
      "<html lang=\"ko\">\n",
      "  <head>\n",
      "    <meta charset=\"UTF-8\" />\n",
      "    <meta\n",
      "      name=\"viewpor\n"
     ]
    }
   ],
   "source": [
    "import requests\n",
    "\n",
    "response = requests.get(\"https://kream.co.kr/\")\n",
    "print(response.status_code)                         # 503 서비스 이용불가능 상태\n",
    "print(response.text[:100])"
   ]
  },
  {
   "cell_type": "markdown",
   "metadata": {},
   "source": [
    "---"
   ]
  },
  {
   "cell_type": "markdown",
   "metadata": {},
   "source": [
    "##### tast 7\n",
    "함수 실행 시간을 측정하는 데코레이터 timer_decorator를 작성하세요. \n",
    "\n",
    "임의의 함수가 실행되는 시간을 측정하여 \"함수 실행 시간: x.xx초\" 형태로 출력하세요."
   ]
  },
  {
   "cell_type": "code",
   "execution_count": 13,
   "metadata": {},
   "outputs": [
    {
     "name": "stdout",
     "output_type": "stream",
     "text": [
      "1부터 50만까지 더하면? ->  125000250000\n",
      "함수 실행 시간 : 0.04초\n"
     ]
    }
   ],
   "source": [
    "import time\n",
    "\n",
    "def timer_decorator(fucntion):\n",
    "    def wrapper():\n",
    "        start_time = time.time()\n",
    "        fucntion()\n",
    "        finish_time = time.time()\n",
    "        result = finish_time - start_time\n",
    "        # print(start_time)\n",
    "        # print(finish_time)\n",
    "        print(f\"함수 실행 시간 : {result:.2f}초\")\n",
    "    return wrapper\n",
    "\n",
    "@timer_decorator\n",
    "def send_time():\n",
    "    sum = 0\n",
    "    for i in range(1, 500001):\n",
    "        sum += i\n",
    "    print(\"1부터 50만까지 더하면? -> \", sum)\n",
    "\n",
    "send_time()\n",
    "\n"
   ]
  },
  {
   "cell_type": "markdown",
   "metadata": {},
   "source": [
    "---"
   ]
  },
  {
   "cell_type": "markdown",
   "metadata": {},
   "source": [
    "##### task 8\n",
    "여러분이 자주 사용하는 수학적 연산<br>\n",
    "(예: 삼각형 넓이, 원의 넓이, 직육면체의 넓이)을 수행하는 함수들을 포함하는 mymath.py라는 이름의 모듈을 만드세요. \n",
    "\n",
    "이 모듈을 사용하여 작성된 함수들을 실제로 임포트하고 사용하는 간단한 프로그램을 작성하세요."
   ]
  },
  {
   "cell_type": "code",
   "execution_count": 17,
   "metadata": {},
   "outputs": [
    {
     "name": "stdout",
     "output_type": "stream",
     "text": [
      "삼각형의 넓이: 15.0\n",
      "원의 넓이: 50.26548245743669\n",
      "직육면체 넓이: 220\n"
     ]
    }
   ],
   "source": [
    "import mymath\n",
    "\n",
    "print(\"삼각형의 넓이:\", mymath.triangle_area(3, 10))\n",
    "\n",
    "print(\"원의 넓이:\", mymath.circle_area(4))\n",
    "\n",
    "print(\"직육면체 넓이:\", mymath.cuboid_area(5, 10, 4))"
   ]
  },
  {
   "cell_type": "markdown",
   "metadata": {},
   "source": [
    "---"
   ]
  },
  {
   "cell_type": "markdown",
   "metadata": {},
   "source": [
    "##### task 9\n",
    "animals라는 패키지를 만들고, 이 패키지 내에 mammals, birds라는 두 개의 서브 모듈을 생성하세요. \n",
    "\n",
    "- 각 모듈에는 최소한 한 개 이상의 동물에 관한 클래스를 정의하세요<br>\n",
    "  (예: mammals에는 Dog, birds에는 Eagle)\n",
    "- 이 패키지와 모듈을 사용하여 동물들의 정보를 출력하는 프로그램을 작성\n",
    "\n",
    "폴더 및 파일 구조\n",
    "```\n",
    "animals/(폴더)\n",
    "├── __init__.py\n",
    "├── mammals.py\n",
    "└── birds.py\n",
    "```"
   ]
  },
  {
   "cell_type": "code",
   "execution_count": 23,
   "metadata": {},
   "outputs": [
    {
     "name": "stdout",
     "output_type": "stream",
     "text": [
      "Eagle's speed is 160km\n",
      "Lion's speed is 74km\n"
     ]
    }
   ],
   "source": [
    "import __init__ as animal\n",
    "\n",
    "animal.print_birds_king()\n",
    "animal.print_mammals_king()"
   ]
  }
 ],
 "metadata": {
  "kernelspec": {
   "display_name": "Python 3",
   "language": "python",
   "name": "python3"
  },
  "language_info": {
   "codemirror_mode": {
    "name": "ipython",
    "version": 3
   },
   "file_extension": ".py",
   "mimetype": "text/x-python",
   "name": "python",
   "nbconvert_exporter": "python",
   "pygments_lexer": "ipython3",
   "version": "3.12.6"
  }
 },
 "nbformat": 4,
 "nbformat_minor": 2
}
