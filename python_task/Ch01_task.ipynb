{
 "cells": [
  {
   "cell_type": "markdown",
   "metadata": {},
   "source": [
    "<span style=\"font-size:100%\">\n",
    "\n",
    "수업은 모두 열심히 들으셨나요?\n",
    "\n",
    "간혹 강의에서 언급되지 않은 내용이 문제로 나올 수 있습니다.<br>\n",
    "그럴땐 강의 내용 외 문제는 구글링을 통해 해결해주세요<br></span>\n",
    "<span style=\"font-size:80%\">\n",
    "(구글링 또한 개발자가 갖쳐야할 역량 중에 하나랍니다 😊)\n",
    "</span>\n",
    "\n",
    "---"
   ]
  },
  {
   "cell_type": "markdown",
   "metadata": {},
   "source": [
    "<span style=\"font-size:80%\">[문제1]<br><br></span>\n",
    "```인터프리트 방식에 대해 설명하고 2개 이상의 장점을 설명해주세요```"
   ]
  },
  {
   "cell_type": "markdown",
   "metadata": {},
   "source": [
    "<span style=\"color:red\">답변</span>"
   ]
  },
  {
   "cell_type": "markdown",
   "metadata": {},
   "source": [
    "프로그램을 실행할 때 인터프리터를 이용하여 코드를 한 줄 씩 읽어나가며 실행하는 방식.\n",
    "인터프리터 방식을 이용하는 고급 프로그래밍 언어로는  JavaScript, Python, SQL 등이 있습니다.\n",
    "\n",
    "인터프리터 방식의 장점\n",
    "+ 한 줄 씩 읽어나가기 때문에 오류 사항 발생 시 오류 사항이 있는 곳에서 멈추기 때문에 오류 발견이 쉬운 편입니다.\n",
    "+ 배우기 쉽습니다."
   ]
  },
  {
   "cell_type": "markdown",
   "metadata": {},
   "source": [
    "---"
   ]
  },
  {
   "cell_type": "markdown",
   "metadata": {},
   "source": [
    "<span style=\"font-size:80%\">[문제2]<br><br></span>\n",
    "```동적 타입 방식의 장점과 단점을 간략히 설명해주세요```"
   ]
  },
  {
   "cell_type": "markdown",
   "metadata": {},
   "source": [
    "<span style=\"color:red\">답변</span>"
   ]
  },
  {
   "cell_type": "markdown",
   "metadata": {},
   "source": [
    "동적 타입 방식의 장점\n",
    "+ 개발자에게 큰 유연성 제공\n",
    "+ 코드의 간결성 향상\n",
    "+ 개발속도 향상\n",
    "\n",
    "동적 타입 방식의 단점\n",
    "+ 프로그램 실행 전 타입 에러를 발견하기 어려움"
   ]
  },
  {
   "cell_type": "markdown",
   "metadata": {},
   "source": [
    "---"
   ]
  },
  {
   "cell_type": "markdown",
   "metadata": {},
   "source": [
    "<span style=\"font-size:80%\">[문제3]<br><br></span>\n",
    "```Python으로 정적타입 방식의 코드를 작성할 수 있는 방법을 구글링을 통해 검색 후 설명해주세요```"
   ]
  },
  {
   "cell_type": "markdown",
   "metadata": {},
   "source": [
    "<span style=\"color:red\">답변</span>"
   ]
  },
  {
   "cell_type": "markdown",
   "metadata": {},
   "source": [
    "# 타입 힌팅(Type Hinting)\n",
    "+ 변수, 클래스, 함수, 리스트 뒤에 자료형을 제시하여 python을 정적으로 사용하는 방식\n",
    "\n",
    "\\ :point_down:  예시를 위해 아래에 간단하게 코드를 작성해 보았습니다. :point_down: /"
   ]
  },
  {
   "cell_type": "code",
   "execution_count": null,
   "metadata": {},
   "outputs": [],
   "source": [
    "age: int = 1234                                     # 정수형 변수 선언\n",
    "\n",
    "def contents__list(x: list, y: list) -> list:       # 함수의 매개변수로 리스트를 받고 반환도 리스트로 한다\n",
    "    return x + y\n",
    "\n",
    "class Person(object):                               # 클래스 객체로 이름은 문자열, 나이는 정수로 받는다\n",
    "    name: str\n",
    "    age: int\n",
    "\n",
    "def is_same_person(x: Person, y: Person) -> bool:   # 함수의 매개변수로 클래스 객체를 받고 부울형 변수를 반환한다\n",
    "    return x == y\n",
    "\n",
    "z: list[str] = ['a', 'b', 'c']                      # 'z'는 리스트이고 거기에 속한 객체들은 문자열이다."
   ]
  },
  {
   "cell_type": "markdown",
   "metadata": {},
   "source": [
    "---"
   ]
  },
  {
   "cell_type": "markdown",
   "metadata": {},
   "source": [
    "<span style=\"font-size:80%\">[문제4]<br><br></span>\n",
    "```프로세스와 스레드의 차이점을 설명해주세요```"
   ]
  },
  {
   "cell_type": "markdown",
   "metadata": {},
   "source": [
    "<span style=\"color:red\">답변</span>"
   ]
  },
  {
   "cell_type": "markdown",
   "metadata": {},
   "source": [
    "프로세스와 스레드는 둘 다 병렬 처리를 가능하게 하는 기본 단위이지만 차이가 있습니다.\n",
    "\n",
    "### 프로세스와 스레드이 차이\n",
    "+ 프로세스 : 운영 체제에게 자원을 할당받아 독립적인 메모리 공간을 가지는데, 이 할당받은 자원을 다른 프로세스들과 공유하지 않아서 프로세스 간 데이터 공유는 어렵지만, 안정성이 높습니다.\n",
    "+ 스레드 : 프로세스 내에서 실행되며, 하나의 프로세스는 여러 스레드를 가질 수 있습니다.   이 스레드들은 서로간 프로세스에게서 받은 자원(코드, 데이터, 힙 영영)을 공유하여 스레드 간의 데이터 공유와 통신이 용이합니다"
   ]
  },
  {
   "cell_type": "markdown",
   "metadata": {},
   "source": [
    "---"
   ]
  },
  {
   "cell_type": "markdown",
   "metadata": {},
   "source": [
    "<span style=\"font-size:80%\">[문제5]<br><br></span>\n",
    "```Python 2버전대와 3버전대의 차이를 성명해주세요```"
   ]
  },
  {
   "cell_type": "markdown",
   "metadata": {},
   "source": [
    "<span style=\"color:red\">답변</span>"
   ]
  },
  {
   "cell_type": "markdown",
   "metadata": {},
   "source": [
    "### python 2세대 - 3세대 차이\n",
    "+ 기본 저장 방식\n",
    "    + 2세대 - ASCII code \n",
    "    + 3세대 - Unicode(외국어, 숫자, 기호, 이모티콘 모두 저장 가능)\n",
    "+ 정수 처리 기능\n",
    "    + 2세대 - 결과값으로 실수를 얻기 위해선 계산 과정의 변수들을 실수로 입력해야 함. 만약 계산 과정의 변수들이 정수이고 결과값이 실수일 때 실수 값이 반올림되어 저장됨\n",
    "    + 3세대 - 계산 과정의 변수가 정수라도 결과값이 실수면 결과값이 실수로 저장됨\n",
    "+ print 함수\n",
    "    + 2세대 - print\"Hello World!\"\n",
    "    + 3세대 - print(\"Hello World!\")"
   ]
  },
  {
   "cell_type": "markdown",
   "metadata": {},
   "source": [
    "---"
   ]
  },
  {
   "cell_type": "markdown",
   "metadata": {},
   "source": [
    "<span style=\"font-size:80%\">[문제6]<br><br></span>\n",
    "```Python에서 메모리 관리는 어떻게 이루어지는지 설명해주세요```"
   ]
  },
  {
   "cell_type": "markdown",
   "metadata": {},
   "source": [
    "<span style=\"color:red\">답변</span>"
   ]
  },
  {
   "cell_type": "markdown",
   "metadata": {},
   "source": [
    "Python의 메모리 관리는 Garbage Collector를 이용해 자동으로 메모리를 관리합니다. 개발자가 직접 메모리를 할당 및 해제를 관리하지 않아도 메모리를 자동으로 처리할 수 있다는 말이죠.\n",
    "메모리 관리는 참조 계수 \"refernce counting\" 기반으로 이루어지고, 이는 객체가 생성될 때마다 그 객체를 참조하는 변수의 개수를 추적하여 객체를 참조하는 변수의 개수가 0이되면, 해당 객체의 메모리는 자동으로 해제됩니다."
   ]
  }
 ],
 "metadata": {
  "language_info": {
   "name": "python"
  }
 },
 "nbformat": 4,
 "nbformat_minor": 2
}
