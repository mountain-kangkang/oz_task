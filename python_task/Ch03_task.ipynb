{
 "cells": [
  {
   "cell_type": "markdown",
   "metadata": {},
   "source": [
    "<span style=\"font-size:100%\">\n",
    "\n",
    "수업은 모두 열심히 들으셨나요?\n",
    "\n",
    "간혹 강의에서 언급되지 않은 내용이 문제로 나올 수 있습니다.<br>\n",
    "그럴땐 강의 내용 외 문제는 구글링을 통해 해결해주세요<br></span>\n",
    "<span style=\"font-size:80%\">\n",
    "(구글링 또한 개발자가 갖쳐야할 역량 중에 하나랍니다 😊)\n",
    "</span>\n",
    "\n",
    "---"
   ]
  },
  {
   "cell_type": "markdown",
   "metadata": {},
   "source": [
    "<span style=\"font-size:80%\">[문제1]<br><br></span>\n",
    "```주로 작성 중인 코드의 끝을 알리는 기호로 사용되며 파이썬에서 한 줄에 작성된 서로 다른 코드를 구분 지을 때 사용할 수 있는 기호를 골라주세요```\n",
    "\n",
    "1. ' , ' (쉼표)\n",
    "2. ' + ' (더하기 기호)\n",
    "3. ' ; ' (세미콜론)\n",
    "4. ' / ' (슬래시)"
   ]
  },
  {
   "cell_type": "markdown",
   "metadata": {},
   "source": [
    "<span style=\"color:red\">답변</span> :"
   ]
  },
  {
   "cell_type": "markdown",
   "metadata": {},
   "source": [
    "3. ' ; ' (세미콜론)"
   ]
  },
  {
   "cell_type": "markdown",
   "metadata": {},
   "source": [
    "----"
   ]
  },
  {
   "cell_type": "markdown",
   "metadata": {},
   "source": [
    "<span style=\"font-size:80%\">[문제2]<br><br></span>\n",
    "```Python의 PEP 8은 무엇인지 설명하고 PEP 8의 핵심적인 규칙을 1개 이상을 설명해주세요```"
   ]
  },
  {
   "cell_type": "markdown",
   "metadata": {},
   "source": [
    "<span style=\"color:red\">답변</span>"
   ]
  },
  {
   "cell_type": "markdown",
   "metadata": {},
   "source": [
    "## PEP(Python Enhance Proposal) 8\n",
    "+ Python 코드 작성법에 대한 가이드라인\n",
    "+ PEP를 따라 Python 코드를 작성하면 가독성이 뛰어나지고 협업 체계에 유리할 수 있음\n",
    "\n",
    "#### 핵심적인 규칙\n",
    "+ 들여쓰기 수준당 4개의 공백(space) 사용\n",
    "+ 한 줄에 최대 79자까지 작성"
   ]
  },
  {
   "cell_type": "markdown",
   "metadata": {},
   "source": [
    "----"
   ]
  },
  {
   "cell_type": "markdown",
   "metadata": {},
   "source": [
    "<span style=\"font-size:80%\">[문제3]<br><br></span>\n",
    "```Python에서 \"#\"이 의마하는 것은 무엇인지 설명해주세요```"
   ]
  },
  {
   "cell_type": "markdown",
   "metadata": {},
   "source": [
    "<span style=\"color:red\">답변</span>"
   ]
  },
  {
   "cell_type": "markdown",
   "metadata": {},
   "source": [
    "Python에서 \"#\"은 한 줄 주석입니다.  \n",
    "여러 줄 주석은 ''' '''(작은 따옴표 3개 + 작은 따옴표 3개)로 씁니다.  \n",
    "실제 코드가 아니라서 실행되지 않으며, 코드에 관한 메모를 남기기 위해 사용됩니다.  \n",
    "코드 사이에 삽입하여 사용하면 코드를 읽는 사람이 좀 더 편해질 수 있지만, 너무 남발하면 가독성이 떨어질 수 있습니다."
   ]
  },
  {
   "cell_type": "markdown",
   "metadata": {},
   "source": [
    "----"
   ]
  },
  {
   "cell_type": "markdown",
   "metadata": {},
   "source": [
    "<span style=\"font-size:80%\">[문제4]<br><br></span>\n",
    "```Python의 들여쓰기 장점과 기능에 대해 설명해주세요```"
   ]
  },
  {
   "cell_type": "markdown",
   "metadata": {},
   "source": [
    "<span style=\"color:red\">답변</span>"
   ]
  },
  {
   "cell_type": "markdown",
   "metadata": {},
   "source": [
    "[], {}, ()를 사용하는 그 내용 인자들이 여러 줄 일때 사용하여, 첫 번째 줄 코드에 포함된 인자들임을 쉽게 알 수 있게 해줍니다.  \n",
    "만약 함수나 클래스에서 첫 줄 다음에 들여쓰기를 하지 않으면 오류가 발생할 수 있습니다."
   ]
  },
  {
   "cell_type": "markdown",
   "metadata": {},
   "source": [
    "----"
   ]
  },
  {
   "cell_type": "markdown",
   "metadata": {},
   "source": [
    "<span style=\"font-size:80%\">[문제5]<br><br></span>\n",
    "```print( )문의 기능 및 특징에 대해 설명해주세요```"
   ]
  },
  {
   "cell_type": "markdown",
   "metadata": {},
   "source": [
    "<span style=\"color:red\">답변</span>"
   ]
  },
  {
   "cell_type": "code",
   "execution_count": 5,
   "metadata": {},
   "outputs": [
    {
     "name": "stdout",
     "output_type": "stream",
     "text": [
      "Hello World!!\n",
      "Hello World!!\n",
      "Hello World!!\n",
      "Hello World!!\n"
     ]
    },
    {
     "data": {
      "text/plain": [
       "\"\\n    이와같은 기능들이 있으며 결과는 모두 같습니다.\\n    print 함수마다 '\\n(줄바꿈)'이 포함되어있어서 자동으로 다음으로 넘어가는 것을 확인할 수 있음\\n\""
      ]
     },
     "execution_count": 5,
     "metadata": {},
     "output_type": "execute_result"
    }
   ],
   "source": [
    "print(\"Hello World!!\")                      # 일반적인 출력\n",
    "print(\"Hello\" + \" \" + \"World!!\")            # 문자열끼리 더하여 출력\n",
    "\n",
    "text1 = \"Hello\"\n",
    "text2 = \"World!!\"\n",
    "print(f\"Hello {text2}\")                     # 큰 따옴표(문자열) 내부에서 변수 추가하여 출력\n",
    "print(text1, text2)                         # 변수만 있어도 출력이 가능함\n",
    "\n",
    "'''\n",
    "    이와같은 기능들이 있으며 결과는 모두 같습니다.\n",
    "    print 함수마다 '\\n(줄바꿈)'이 포함되어있어서 자동으로 다음으로 넘어가는 것을 확인할 수 있음\n",
    "'''"
   ]
  },
  {
   "cell_type": "markdown",
   "metadata": {},
   "source": []
  }
 ],
 "metadata": {
  "kernelspec": {
   "display_name": "Python 3",
   "language": "python",
   "name": "python3"
  },
  "language_info": {
   "codemirror_mode": {
    "name": "ipython",
    "version": 3
   },
   "file_extension": ".py",
   "mimetype": "text/x-python",
   "name": "python",
   "nbconvert_exporter": "python",
   "pygments_lexer": "ipython3",
   "version": "3.9.6"
  }
 },
 "nbformat": 4,
 "nbformat_minor": 2
}
